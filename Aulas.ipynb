{
 "cells": [
  {
   "cell_type": "markdown",
   "metadata": {},
   "source": [
    "Aula 16/02/2024 - Comandos de Saída (print)/ Tipos de Dados (string, int,float,bool)/ Operações Aritmédicas (+ - * / % **)"
   ]
  },
  {
   "cell_type": "code",
   "execution_count": 8,
   "metadata": {},
   "outputs": [
    {
     "name": "stdout",
     "output_type": "stream",
     "text": [
      "Hello, world!!!\n",
      "Meu primeiro código em Python. Usando aspas duplas\n",
      "Meu primeiro código em Python. Usando aspas duplas\n",
      "123\n",
      "70.5\n",
      "True\n",
      "sesi\n",
      "14\n",
      "86\n",
      "string 10 70.5 False\n",
      "60\n",
      "80\n",
      "1316223135288\n",
      "1609.0\n",
      "1\n",
      "27\n",
      "2\n",
      "7.0\n"
     ]
    }
   ],
   "source": [
    "#Este é meu primeiro código °-°\n",
    "print('Hello, world!!!') #a função print serve para exibir na tela alguma mensagem\n",
    "#hashtag é utilizado para fazer comentários que não vão aparecer na tela (mesmo códigos corretos)\n",
    "print(\"Meu primeiro código em Python. Usando aspas duplas\")\n",
    "print(\"Meu primeiro código em Python. Usando aspas duplas\") #shift + alt + seta p/ baixo (duplica na linha de baixo)\n",
    "\n",
    "print(123) #É exibido porque é número inteiro, por isso, não preciso usar \"\" (vai imprimir de qualquer forma)\n",
    "print(70.5) #número float\n",
    "print(True) #boll (o primeiro caractere precisa estar sempre em maiusculo)\n",
    "print(\"sesi\") #Tipo string (tudo que tiver aspas é considerado uma string (str) por isso não colocamos aspas em números)\n",
    "\n",
    "print(8+6) #se adicionarmos as aspas será considerado string e por isso a conta não vai ser efetuada, exemplo abaixo\n",
    "print(\"8\"+\"6\") #quando colocamos um + com duas strings não estamos fazendo uma conta e sim uma CONCATENAÇÃO \n",
    "\n",
    "#posso imprimir varias informações ao mesmo tempo separando-as por \",\"ss\n",
    "print(\"string\", 10, 70.5, False)\n",
    "\n",
    "print(10 + 50) # + é o nosso operador de SOMA (número inteiro ou decimal)\n",
    "print(67 + 13) # - é o operador de SUBTRAÇÂO (n° inteiro ou decimal)\n",
    "print(4214328 * 312321) # * é o operador de MULTIPLICAÇÃO\n",
    "print(4827 / 3) # / é o operador de DIVISÃO\n",
    "print(31 % 2) # % é o operador de SOBRA/RESTO da divisão (MÓDULO)\n",
    "print(3 ** 3) # ** é o operador de EXPONENCIAÇÂO 3³ \n",
    "print(7 // 3) # // é o operador de DiVISÂO INTEIRA\n",
    "\n",
    "print ( (8 +6) / 2) # O parênteses define a maior ordem de precedência"
   ]
  },
  {
   "cell_type": "code",
   "execution_count": 9,
   "metadata": {},
   "outputs": [],
   "source": [
    "# int= número inteiro (9, -5, 0 4521)\n",
    "# float= número com vírgula, com casas decimais (9.0, -5.1, 1.654)\n",
    "# bool= dado lógico, só recebe verdadeiro ou falso (apenas essas duas informações (True or False))\n",
    "# str= recebe um conjunto de caracteres ('sesi' \"senai\" \"9.0\")"
   ]
  },
  {
   "cell_type": "markdown",
   "metadata": {},
   "source": [
    "Aula 22/02/2024 - Comandos de entrada (input) / Variáveis / Pseudocódigo"
   ]
  },
  {
   "cell_type": "code",
   "execution_count": 10,
   "metadata": {},
   "outputs": [
    {
     "name": "stdout",
     "output_type": "stream",
     "text": [
      "curso\n",
      "Desenvolvimento de Sistemas\n",
      "curso Desenvolvimento de Sistemas\n",
      "olá Juliana você tem 16 anos, hoje está fazendo 28.8 °C\n"
     ]
    }
   ],
   "source": [
    "#Declarando minha primeira variável\n",
    "#Lemos da seguinte forma:\n",
    "#Variável curso recee (=) a string \"desenvolvimento de sistemas\"\n",
    "#Receba/Armazene o texto \"Desenvolvimento de Sistemas\"\n",
    "curso = \"Desenvolvimento de Sistemas\"\n",
    "#Exiba o valor armazenado\n",
    "print(\"curso\") #Para imprimir uma variável não se coloca entre \" \"\n",
    "print(\"Desenvolvimento de Sistemas\") #Jeito correto de se utilizar uma variável\n",
    "print(\"curso\", curso) \n",
    "\n",
    "#criando e atribuindo uma variável\n",
    "idade = 16\n",
    "temperatura = 28.8\n",
    "nome = \"Juliana\"\n",
    "#Exiba o valor das 3 variáveis\n",
    "\"olá Juliana, voce tem 36 anos, hoje está fazendo 28.8 °C\"\n",
    "print (\"olá\", nome, \"você tem\", idade, \"anos, hoje está fazendo\", temperatura, \"°C\") \n"
   ]
  },
  {
   "cell_type": "code",
   "execution_count": 11,
   "metadata": {},
   "outputs": [
    {
     "name": "stdout",
     "output_type": "stream",
     "text": [
      "olá Juliana você tem 16 anos, hoje está fazendo 28.8 °C\n",
      "Olá Juliana, voce tem 16 anos, hoje está fazendo 28.8 °C\n"
     ]
    }
   ],
   "source": [
    "#Correção do professor (as duas formas estão certas)\n",
    "idade = 16\n",
    "temperatura = 28.8\n",
    "nome = \"Juliana\"\n",
    "#Exiba o valor das 3 variáveis\n",
    "\"olá Juliana, voce tem 36 anos, hoje está fazendo 28.8 °C\"\n",
    "print (\"olá\", nome, \"você tem\", idade, \"anos, hoje está fazendo\", temperatura, \"°C\") \n",
    "print (f'Olá {nome}, voce tem {idade} anos, hoje está fazendo {temperatura} °C')\n",
    "\n"
   ]
  },
  {
   "cell_type": "code",
   "execution_count": 12,
   "metadata": {},
   "outputs": [
    {
     "ename": "NameError",
     "evalue": "name 'salário' is not defined",
     "output_type": "error",
     "traceback": [
      "\u001b[1;31m---------------------------------------------------------------------------\u001b[0m",
      "\u001b[1;31mNameError\u001b[0m                                 Traceback (most recent call last)",
      "Cell \u001b[1;32mIn[12], line 4\u001b[0m\n\u001b[0;32m      2\u001b[0m chovendo \u001b[38;5;241m=\u001b[39m \u001b[38;5;28;01mFalse\u001b[39;00m\n\u001b[0;32m      3\u001b[0m dia \u001b[38;5;241m=\u001b[39m \u001b[38;5;28;01mTrue\u001b[39;00m\n\u001b[1;32m----> 4\u001b[0m \u001b[38;5;28mprint\u001b[39m(\u001b[38;5;124m\"\u001b[39m\u001b[38;5;124msalário\u001b[39m\u001b[38;5;124m\"\u001b[39m, \u001b[43msalário\u001b[49m) \u001b[38;5;66;03m# ocorrerá um erro pois não existe uma variável com o nome salário, então não consegue encontrar nada para exibir\u001b[39;00m\n\u001b[0;32m      5\u001b[0m \u001b[38;5;66;03m#NameError: name \"salário\" is not defined\u001b[39;00m\n\u001b[0;32m      6\u001b[0m \u001b[38;5;66;03m#print(\"salário\", salário)\u001b[39;00m\n",
      "\u001b[1;31mNameError\u001b[0m: name 'salário' is not defined"
     ]
    }
   ],
   "source": [
    "#declarando variáveis lógicas, recebem apenas true or false\n",
    "chovendo = False\n",
    "dia = True\n",
    "print(\"salário\", salário) # ocorrerá um erro pois não existe uma variável com o nome salário, então não consegue encontrar nada para exibir\n",
    "#NameError: name \"salário\" is not defined\n",
    "#print(\"salário\", salário)"
   ]
  },
  {
   "cell_type": "code",
   "execution_count": null,
   "metadata": {},
   "outputs": [],
   "source": [
    "#Declarando uma constante, defirentemente da variável que posso alterar o valor, na constante não é permitido\n",
    "#declaramos com o nome todo em maíusculo\n",
    "PI = 3.1415"
   ]
  },
  {
   "cell_type": "code",
   "execution_count": null,
   "metadata": {},
   "outputs": [
    {
     "name": "stdout",
     "output_type": "stream",
     "text": [
      "Juliana 16\n",
      "ricardo 34\n"
     ]
    }
   ],
   "source": [
    "print(nome, idade)\n",
    "nome = 'ricardo'\n",
    "idade = 34\n",
    "print(nome, idade)"
   ]
  },
  {
   "cell_type": "code",
   "execution_count": null,
   "metadata": {},
   "outputs": [
    {
     "name": "stdout",
     "output_type": "stream",
     "text": [
      "Juliana 16 62\n",
      "seu nome é Juliana você tem 16 Anos e pesa 62\n"
     ]
    }
   ],
   "source": [
    "#Passo1: receber o nome da pessoa\n",
    "nome = \"Juliana\"\n",
    "#Passo2: receber a idade da pessoa\n",
    "idade = 16\n",
    "#Passo3: receber o peso da pessoa\n",
    "peso = 62\n",
    "#Passo4: exibir o nome, a idade e o peso\n",
    "print(nome, idade, peso)\n",
    "print(f\"seu nome é {nome} você tem {idade} Anos e pesa {peso}\")"
   ]
  },
  {
   "cell_type": "code",
   "execution_count": null,
   "metadata": {},
   "outputs": [],
   "source": [
    "#Passo1:receber o nome da pessoa\n",
    "nome = input('digite seu nome')\n",
    "#Passo2:receber a idade da pessoa\n",
    "idade = input('digite sua idade:')\n",
    "#Passo3: receber o peso da pessoa\n",
    "peso  = input (\"digite seu peso:\")\n",
    "#Passo4:exibir o nome, idade e o peso\n",
    "print(nome, idade, peso)\n",
    "print(f\"seu nome é {nome} você tem {idade} anos e pesa {peso}kg\")\n",
    "# exibindo os tipos das variaveis\n",
    "# tudo o que recebemos do input é do tipo string \n",
    "print(type(nome), type(idade), type(peso))\n",
    "nome = input(\"digite seu nome\")\n",
    "idade = int(input(\"digite sua idade:\"))  # posso converter essa string recebida pro tipo inteiro\n",
    "peso = float(input(\"digite seu peso:\")) # tambem é possivel converter para o tipo float\n",
    "print(type(nome), type(idade), type(peso))"
   ]
  },
  {
   "cell_type": "markdown",
   "metadata": {},
   "source": [
    "23/02/2024 - Operações com variáveis\n"
   ]
  },
  {
   "cell_type": "code",
   "execution_count": null,
   "metadata": {},
   "outputs": [
    {
     "name": "stdout",
     "output_type": "stream",
     "text": [
      "9\n",
      "<class 'int'>\n"
     ]
    }
   ],
   "source": [
    "# ERRADO, SE ALTERAR OS NÚMEROS DAS VARIAVEIS NÃO VAI MUDAR O RESULTADO\n",
    "# receber o primeiro numero\n",
    "numero1 = 2\n",
    "# receber o segundo numero\n",
    "numero2 = 7\n",
    "# somar o primeiro numero + o segundo numero\n",
    "soma = numero1 + numero2 # se colocar 2 + 7, para que criou as variaveis?\n",
    "# exibir o resultado\n",
    "print(soma)\n",
    "print(type(soma))"
   ]
  },
  {
   "cell_type": "code",
   "execution_count": null,
   "metadata": {},
   "outputs": [
    {
     "name": "stdout",
     "output_type": "stream",
     "text": [
      "185\n",
      "<class 'str'>\n"
     ]
    }
   ],
   "source": [
    "# ERRADO, OS NÚMEROS ESTÃO COMO STRING\n",
    "# receber o primeiro numero\n",
    "numero1 = input('Digite o primeiro número:')\n",
    "# receber o segundo numero\n",
    "numero2 = input('Digite o segundo número:')\n",
    "# somar o primeiro numero + o segundo numero\n",
    "soma = numero1 + numero2 # se colocar 2 + 7, para que criou as variaveis?\n",
    "# exibir o resultado\n",
    "print(soma)\n",
    "print(type(soma))"
   ]
  },
  {
   "cell_type": "code",
   "execution_count": null,
   "metadata": {},
   "outputs": [
    {
     "name": "stdout",
     "output_type": "stream",
     "text": [
      "23\n",
      "<class 'int'>\n"
     ]
    }
   ],
   "source": [
    "# FORMA CORRETA\n",
    "# MAS SÓ RECEBE NÚMEROS INTEIROS\n",
    "# receber o primeiro numero\n",
    "numero1 = int(input('Digite o primeiro número:'))\n",
    "# receber o segundo numero\n",
    "numero2 = int(input('Digite o segundo número:'))\n",
    "# somar o primeiro numero + o segundo numero\n",
    "soma = numero1 + numero2 # se colocar 2 + 7, para que criou as variáveis?\n",
    "# exibir o resultado\n",
    "print(soma)\n",
    "print(type(soma))"
   ]
  },
  {
   "cell_type": "code",
   "execution_count": null,
   "metadata": {},
   "outputs": [
    {
     "name": "stdout",
     "output_type": "stream",
     "text": [
      "23.0\n",
      "<class 'float'>\n"
     ]
    }
   ],
   "source": [
    "# FORMA CORRETA\n",
    "# receber o primeiro numero\n",
    "numero1 = float(input('Digite o primeiro número:'))\n",
    "# receber o segundo numero\n",
    "numero2 = float(input('Digite o segundo número:'))\n",
    "# somar o primeiro numero + o segundo numero\n",
    "soma = numero1 + numero2 \n",
    "# exibir o resultado\n",
    "print(soma)\n",
    "print(type(soma))"
   ]
  },
  {
   "cell_type": "code",
   "execution_count": null,
   "metadata": {},
   "outputs": [
    {
     "ename": "NameError",
     "evalue": "name 'numero3' is not defined",
     "output_type": "error",
     "traceback": [
      "\u001b[1;31m---------------------------------------------------------------------------\u001b[0m",
      "\u001b[1;31mNameError\u001b[0m                                 Traceback (most recent call last)",
      "Cell \u001b[1;32mIn[6], line 7\u001b[0m\n\u001b[0;32m      5\u001b[0m numero2 \u001b[38;5;241m=\u001b[39m \u001b[38;5;28mfloat\u001b[39m(\u001b[38;5;28minput\u001b[39m(\u001b[38;5;124m'\u001b[39m\u001b[38;5;124mDigite o segundo número:\u001b[39m\u001b[38;5;124m'\u001b[39m))\n\u001b[0;32m      6\u001b[0m \u001b[38;5;66;03m# somar o primeiro numero + o segundo numero\u001b[39;00m\n\u001b[1;32m----> 7\u001b[0m soma \u001b[38;5;241m=\u001b[39m numero1 \u001b[38;5;241m+\u001b[39m numero2 \u001b[38;5;241m+\u001b[39m \u001b[43mnumero3\u001b[49m \u001b[38;5;66;03m# nao reconhece pq a ordem está errada\u001b[39;00m\n\u001b[0;32m      8\u001b[0m \u001b[38;5;66;03m# exibir o resultado\u001b[39;00m\n\u001b[0;32m      9\u001b[0m \u001b[38;5;28mprint\u001b[39m(soma)\n",
      "\u001b[1;31mNameError\u001b[0m: name 'numero3' is not defined"
     ]
    }
   ],
   "source": [
    "# ORDEM ERRADA\n",
    "# receber o primeiro numero\n",
    "numero1 = float(input('Digite o primeiro número:'))\n",
    "# receber o segundo numero\n",
    "numero2 = float(input('Digite o segundo número:'))\n",
    "# somar o primeiro numero + o segundo numero\n",
    "soma = numero1 + numero2 + numero3 # nao reconhece pq a ordem está errada\n",
    "# exibir o resultado\n",
    "print(soma)\n",
    "print(type(soma))\n",
    "numero3 = float(input('Digite o segundo número:'))"
   ]
  },
  {
   "cell_type": "code",
   "execution_count": null,
   "metadata": {},
   "outputs": [
    {
     "name": "stdout",
     "output_type": "stream",
     "text": [
      "23.0\n",
      "<class 'float'>\n"
     ]
    }
   ],
   "source": [
    "# CONTINUA NA ORDEM ERRADA\n",
    "# receber o primeiro numero\n",
    "numero1 = float(input('Digite o primeiro número:'))\n",
    "# receber o segundo numero\n",
    "numero2 = float(input('Digite o segundo número:'))\n",
    "# exibir o resultado\n",
    "print(soma)\n",
    "print(type(soma))\n",
    "numero3 = float(input('Digite o segundo número:'))\n",
    "# somar o primeiro numero + o segundo numero\n",
    "soma = numero1 + numero2 + numero3 # nao reconhece pq a ordem está errada"
   ]
  },
  {
   "cell_type": "code",
   "execution_count": null,
   "metadata": {},
   "outputs": [
    {
     "name": "stdout",
     "output_type": "stream",
     "text": [
      "27.0\n",
      "<class 'float'>\n"
     ]
    }
   ],
   "source": [
    "# JEITO CORRETO\n",
    "# receber o primeiro numero\n",
    "numero1 = float(input('Digite o primeiro número:'))\n",
    "# receber o segundo numero\n",
    "numero2 = float(input('Digite o segundo número:'))\n",
    "# receber o terceiro numero\n",
    "numero3 = float(input('Digite o segundo número:'))\n",
    "# somar o primeiro numero + o segundo numero\n",
    "soma = numero1 + numero2 + numero3 # nao reconhece pq a ordem está errada\n",
    "# exibir o resultado\n",
    "print(soma)\n",
    "print(type(soma))"
   ]
  },
  {
   "cell_type": "code",
   "execution_count": null,
   "metadata": {},
   "outputs": [
    {
     "name": "stdout",
     "output_type": "stream",
     "text": [
      "360.0\n"
     ]
    }
   ],
   "source": [
    "#tentativa de multiplicação\n",
    "numero1 = float(input('Digite o primeiro número:'))\n",
    "numero2 = float(input('Digite o primeiro número:'))\n",
    "numero3 = float(input('Digite o primeiro número:'))\n",
    "multiplicacao = (numero1 * numero2 * numero3)\n",
    "print(multiplicacao)\n"
   ]
  },
  {
   "cell_type": "code",
   "execution_count": null,
   "metadata": {},
   "outputs": [
    {
     "name": "stdout",
     "output_type": "stream",
     "text": [
      "1855.0\n",
      "você obteve R$ 145.0 de desconto, e pagou R$ 1855.0\n"
     ]
    }
   ],
   "source": [
    "#Passo 1:Receber o valor do celular\n",
    "valor = float(input(\"digite aqui o valor do celular\"))\n",
    "#Passo 2:Receber o valor do desconto\n",
    "desconto = float(input(\"digite aqui o valor do desconto\"))\n",
    "#Passo 3:Calcular o novo valor do celular\n",
    "valor = (valor - desconto) #pode redefinir os valores\n",
    "print(valor) \n",
    "print(f\"você obteve R$ {desconto} de desconto, e pagou R$ {valor}\")"
   ]
  },
  {
   "cell_type": "code",
   "execution_count": null,
   "metadata": {},
   "outputs": [
    {
     "name": "stdout",
     "output_type": "stream",
     "text": [
      "1399680\n",
      "o valor final é 1399680\n"
     ]
    }
   ],
   "source": [
    "numero = 27 * 8\n",
    "numero = numero ** 2\n",
    "numero = numero * (50-20)\n",
    "print(numero)\n",
    "print(f\"o valor final é {numero}\")"
   ]
  },
  {
   "cell_type": "code",
   "execution_count": null,
   "metadata": {},
   "outputs": [],
   "source": [
    "#Passo1: descobrir quantas horas vamos usar no projeto\n",
    "#Passo2: custo de uma hora multiplicado pelo resultado do passo 1\n",
    "#Passo3: Exibir o resultado final do custo do projeto"
   ]
  },
  {
   "cell_type": "code",
   "execution_count": null,
   "metadata": {},
   "outputs": [
    {
     "name": "stdout",
     "output_type": "stream",
     "text": [
      "12000\n",
      "você deve cobrar R$ 12000\n"
     ]
    }
   ],
   "source": [
    "#usando apenas as variáveis\n",
    "horas = 8\n",
    "valor_h = 100\n",
    "dias = 15\n",
    "valor = (horas * valor_h * dias)\n",
    "print(valor)\n",
    "\n",
    "#ou\n",
    "\n",
    "horas_por_dia = 8\n",
    "quant_de_dias = 15\n",
    "horas_trabalho = horas_por_dia * quant_de_dias\n",
    "custo_horas = 100\n",
    "custo_total = horas_trabalho * custo_horas\n",
    "print(f\"você deve cobrar R$ {custo_total}\")"
   ]
  },
  {
   "cell_type": "code",
   "execution_count": null,
   "metadata": {},
   "outputs": [
    {
     "name": "stdout",
     "output_type": "stream",
     "text": [
      "12000\n",
      "você deve cobrar R$ 12000\n"
     ]
    }
   ],
   "source": [
    "#usando input\n",
    "horas = int(input(\"Digite aqui a quantidade de horas\"))\n",
    "valor_h = int(input(\"Digite aqui o valor da hora\"))\n",
    "dias = int(input(\"digite aqui a quantidade de dias\"))\n",
    "valor = (horas * valor_h * dias)\n",
    "print(valor)\n",
    "print(f\"você deve cobrar R$ {valor}\")"
   ]
  },
  {
   "cell_type": "markdown",
   "metadata": {},
   "source": [
    "29/02/2024 - Operadores relacionais/Estrutura condicional"
   ]
  },
  {
   "cell_type": "code",
   "execution_count": null,
   "metadata": {},
   "outputs": [
    {
     "name": "stdout",
     "output_type": "stream",
     "text": [
      "a > b ? False\n",
      "a > b ? False\n",
      "a > b ? True\n",
      "a > 2 ? False\n",
      "a == 2 ? True\n"
     ]
    }
   ],
   "source": [
    "a = 2\n",
    "b = 3\n",
    "print(f'a > b ? {a > b}') # maior que '>' , menor que '<'\n",
    "print(f'a > b ? {a == b}') #igual '=='\n",
    "print(f'a > b ? {a != b}') #diferente '!='\n",
    "print(f'a > 2 ? {a >2}') \n",
    "print(f'a == 2 ? {a == 2}')"
   ]
  },
  {
   "cell_type": "code",
   "execution_count": null,
   "metadata": {},
   "outputs": [
    {
     "name": "stdout",
     "output_type": "stream",
     "text": [
      "posso entrar\n",
      "fim\n"
     ]
    }
   ],
   "source": [
    "tenho_ingresso = True #caso coloque False não será execultado nada\n",
    "if tenho_ingresso == True : #devido a essa linha, em especifico devido ao 'if', ja que vai comparar duas situações \n",
    "    print('posso entrar')\n",
    "   \n",
    "print(\"fim\")\n",
    "    "
   ]
  },
  {
   "cell_type": "code",
   "execution_count": null,
   "metadata": {},
   "outputs": [
    {
     "name": "stdout",
     "output_type": "stream",
     "text": [
      "maior idade\n",
      "fim\n"
     ]
    }
   ],
   "source": [
    "#Passo1:receber o valor da idade\n",
    "idade = int(input(\"Qual a  sua idade? \"))\n",
    "#Passo2:verificar se é maior ou igual a 18 \n",
    "if idade >= 18 :  #igual ou maior\n",
    "    #Passo3:se for exibir \"maior idade\"\n",
    "    print(\"maior idade\")\n",
    "else :\n",
    "    print('você é de menor')\n",
    "\n",
    "print(\"fim\")"
   ]
  },
  {
   "cell_type": "code",
   "execution_count": null,
   "metadata": {},
   "outputs": [
    {
     "name": "stdout",
     "output_type": "stream",
     "text": [
      "Posso entrar\n",
      "fim\n"
     ]
    }
   ],
   "source": [
    "tenho_ingresso = True\n",
    "if tenho_ingresso == True :\n",
    "    print('Posso entrar')\n",
    "else : \n",
    "    print('Vá comprar')\n",
    "\n",
    "print('fim')\n"
   ]
  },
  {
   "cell_type": "markdown",
   "metadata": {},
   "source": [
    "01/03/2024 - Operadores lógicos e Extretura condicional"
   ]
  },
  {
   "cell_type": "code",
   "execution_count": null,
   "metadata": {},
   "outputs": [
    {
     "name": "stdout",
     "output_type": "stream",
     "text": [
      "False\n",
      "False\n",
      "True\n",
      "True\n"
     ]
    }
   ],
   "source": [
    "a = 2\n",
    "b = 3\n",
    "c = 3\n",
    "#      false e false\n",
    "print(( a > 2 ) or ( b < 2)) #false\n",
    "#      false ou false\n",
    "print(( a > 2 ) or ( b < 2)) #false\n",
    "#      false ou true\n",
    "print(( a > 2 ) or ( b < 5)) #false\n",
    "\n",
    "idade = 18\n",
    "#      false    true\n",
    "print(idade > 18 or idade == 18) # true\n",
    "#       idade >= 18"
   ]
  },
  {
   "cell_type": "code",
   "execution_count": null,
   "metadata": {},
   "outputs": [
    {
     "name": "stdout",
     "output_type": "stream",
     "text": [
      "24.654832347140037\n",
      "no peso ideal\n"
     ]
    }
   ],
   "source": [
    "altura = float(input('digite aqui a sua altura: '))\n",
    "peso = float(input('digite seu peso'))\n",
    "imc = peso / (altura ** 2)\n",
    "print(imc)\n",
    "if imc < 18.5 :\n",
    "    print('abaixo do peso ideal')\n",
    "elif imc >= 18.6 and imc <=24.9 :\n",
    "    print('no peso ideal')\n",
    "elif imc >= 25 and imc <=29.9 :\n",
    "    print('sobrepeso')\n",
    "else :\n",
    "    print('sobrepeso')\n"
   ]
  },
  {
   "cell_type": "code",
   "execution_count": null,
   "metadata": {},
   "outputs": [
    {
     "name": "stdout",
     "output_type": "stream",
     "text": [
      "escaleno\n",
      "escaleno\n"
     ]
    }
   ],
   "source": [
    "lado1 = input('Digite lado 1: ')\n",
    "lado2 = input('digite lado 2: ')\n",
    "lado3 = input('digite lado ')\n",
    "if (lado1 == lado2) and (lado2 == lado3) :\n",
    "    print('equilatero') \n",
    "elif (lado1 == lado2 != lado3) :\n",
    "    print('isósceles')\n",
    "elif (lado1 != lado2 != lado3) :\n",
    "    print('escaleno')\n",
    "\n",
    "#     ou\n",
    "\n",
    "    lado1 = input('Digite lado 1: ')\n",
    "lado2 = input('digite lado 2: ')\n",
    "lado3 = input('digite lado ')\n",
    "if (lado1 == lado2) and (lado2 == lado3) :\n",
    "    print('equilatero')\n",
    "elif (lado1 == lado2 != lado3) :\n",
    "    print('isósceles')\n",
    "else :\n",
    "    print('escaleno')"
   ]
  },
  {
   "cell_type": "code",
   "execution_count": null,
   "metadata": {},
   "outputs": [
    {
     "name": "stdout",
     "output_type": "stream",
     "text": [
      "triângulo equilatero\n"
     ]
    }
   ],
   "source": [
    "#CORREÇÂO PROFESSOR\n",
    "lado1 = input('Digite lado 1: ')\n",
    "lado2 = input('digite lado 2: ')\n",
    "lado3 = input('digite lado: ')\n",
    "if (lado1 == lado2) and (lado2 == lado3) :\n",
    "    print('triângulo equilatero')\n",
    "elif (lado1 != lado2) and (lado2 !=lado3) and (lado1 != lado3) :\n",
    "    print('triângulo escaleno')\n",
    "else :\n",
    "    print('triângulo isósceles')"
   ]
  },
  {
   "cell_type": "code",
   "execution_count": null,
   "metadata": {},
   "outputs": [
    {
     "name": "stdout",
     "output_type": "stream",
     "text": [
      "a letra 45 é um número\n",
      "a letra 45 é uma consoante\n"
     ]
    }
   ],
   "source": [
    "letra = input('Digite uma letra')\n",
    "if letra == \"a\" or letra == \"e\" or letra == \"i\" or letra == 'o' or letra == \"u\" :\n",
    "    print(f'a letra {letra} é uma vogal')\n",
    "elif letra == \"1\" or \"2\" or \"3\" :\n",
    "    print(f'a letra {letra} é um número')\n",
    "else :\n",
    "    print(f'a letra {letra} é uma consoante')\n",
    "    #essa, apesar de considerar muitos números não é adequada por confundir letras com números\n",
    "\n",
    "\n",
    " #ou\n",
    "\n",
    "letra = input('Digite uma letra')\n",
    "if letra == \"a\" or letra == \"e\" or letra == \"i\" or letra == 'o' or letra == \"u\" :\n",
    "    print(f'a letra {letra} é uma vogal')\n",
    "elif letra == \"1\" or letra == \"2\" or letra == \"3\" :\n",
    "    print(f'a letra {letra} é um número')\n",
    "else :\n",
    "    print(f'a letra {letra} é uma consoante')"
   ]
  },
  {
   "cell_type": "markdown",
   "metadata": {},
   "source": [
    "07/03/2024 - Estrutura condicional aninhada / match case"
   ]
  },
  {
   "cell_type": "code",
   "execution_count": null,
   "metadata": {},
   "outputs": [
    {
     "name": "stdout",
     "output_type": "stream",
     "text": [
      "Seu voto é facultativo\n",
      "FIM\n"
     ]
    }
   ],
   "source": [
    "idade = int(input('digite sua idade: '))\n",
    "if idade >= 18 and idade <= 70 :\n",
    "    print('Você é obrigado a votar')\n",
    "else :\n",
    "    if idade < 16 :\n",
    "        print('Você não pode votar')\n",
    "    else :\n",
    "        if idade >= 16 or idade > 70 :\n",
    "            print('Seu voto é facultativo')\n",
    "print('FIM')"
   ]
  },
  {
   "cell_type": "code",
   "execution_count": null,
   "metadata": {},
   "outputs": [
    {
     "name": "stdout",
     "output_type": "stream",
     "text": [
      "2000\n"
     ]
    }
   ],
   "source": [
    "n1 = int(input('Digite aqui o primeiro número'))\n",
    "n2 = int(input('Digite aqui o segundo número'))\n",
    "operador = (input('Digite uma operação + - * / ** '))\n",
    "#ja vem como string por padrão, não precisa escrever inteiro\n",
    "#operador = str(input(\"Digite aqui seu operador\"))\n",
    "if operador == \"+\" :\n",
    "    print(n1 - n2)\n",
    "if operador == \"-\" :\n",
    "    print(n1 + n2)\n",
    "if operador == \"*\" :\n",
    "    print(n1 * n2)\n",
    "if operador == \"/\" :\n",
    "    print(n1 / n2)\n",
    "if operador == \"**\" :\n",
    "    print(n1 ** n2)\n",
    "print('FIM')"
   ]
  },
  {
   "cell_type": "code",
   "execution_count": null,
   "metadata": {},
   "outputs": [
    {
     "name": "stdout",
     "output_type": "stream",
     "text": [
      "2000\n"
     ]
    }
   ],
   "source": [
    "n1 = int(input('Digite aqui o primeiro número'))\n",
    "n2 = int(input('Digite aqui o segundo número'))\n",
    "operador = (input('Digite uma operação + - * / ** '))\n",
    "match operador :\n",
    "    case \"+\" :\n",
    "         print(n1 - n2)\n",
    "    case \"-\" :\n",
    "          print(n1 - n2)\n",
    "    case \"*\" :\n",
    "          print(n1 * n2)\n",
    "    case \"/\" :\n",
    "          print(n1 / n2)\n",
    "    case \"**\":\n",
    "          print(n1 ** n2)\n",
    "    case _ :\n",
    "            print(\"essa operação não é possível\")"
   ]
  },
  {
   "cell_type": "code",
   "execution_count": null,
   "metadata": {},
   "outputs": [],
   "source": [
    "#ambos são a mesma coisa "
   ]
  },
  {
   "cell_type": "code",
   "execution_count": null,
   "metadata": {},
   "outputs": [
    {
     "name": "stdout",
     "output_type": "stream",
     "text": [
      "50 * 40 = 2000 \n"
     ]
    }
   ],
   "source": [
    "n1 = int(input('Digite aqui o primeiro número'))\n",
    "n2 = int(input('Digite aqui o segundo número'))\n",
    "operador = (input('Digite uma operação + - * / ** '))\n",
    "match operador :\n",
    "    case \"+\" :\n",
    "         print(f'{n1} {operador} {n2} = {n1 - n2} ')\n",
    "    case \"-\" :\n",
    "          print(f'{n1} {operador} {n2} = {n1 - n2}')\n",
    "    case \"*\" :\n",
    "          print(f'{n1} {operador} {n2} = {n1 * n2} ')\n",
    "    case \"/\" :\n",
    "          print(f'{n1} {operador} {n2} = {n1 / n2}')\n",
    "    case \"**\":\n",
    "          print(f'{n1} {operador} {n2} = {n1 ** n2}')\n",
    "    case _ :\n",
    "            print(\"essa operação não é possível, operador inválido\")"
   ]
  },
  {
   "cell_type": "markdown",
   "metadata": {},
   "source": [
    "08/03/2024 _ Laço de repetição - While"
   ]
  },
  {
   "cell_type": "code",
   "execution_count": null,
   "metadata": {},
   "outputs": [],
   "source": [
    "#errado, muito extenso e para numero de repetições muito altos é imposível fazer\n",
    "print(\"Eu vou prestar atenção na aula\")\n",
    "print(\"Eu vou prestar atenção na aula\")\n",
    "print(\"Eu vou prestar atenção na aula\")\n",
    "print(\"Eu vou prestar atenção na aula\")\n",
    "print(\"Eu vou prestar atenção na aula\")"
   ]
  },
  {
   "cell_type": "code",
   "execution_count": null,
   "metadata": {},
   "outputs": [],
   "source": [
    "#não faz nada\n",
    "x = 1\n",
    "while x == 10 :\n",
    "    print(\"Eu vou prestar atenção na aula\")\n",
    "print(\"FIM\")"
   ]
  },
  {
   "cell_type": "code",
   "execution_count": null,
   "metadata": {},
   "outputs": [],
   "source": [
    "#repete infinitamente\n",
    "x = 1\n",
    "while x == 1:\n",
    "    print(\"eu vou prestar atenção na aula\")\n",
    "print(\"FIM\")"
   ]
  },
  {
   "cell_type": "code",
   "execution_count": null,
   "metadata": {},
   "outputs": [],
   "source": [
    "X = 1\n",
    "while x <= 10 :\n",
    "    print(\"Eu vou prestar atenção na aula\")\n",
    "    x = x + 1 #contador # x = x + 1\n",
    "print(\"FIM\")"
   ]
  },
  {
   "cell_type": "code",
   "execution_count": null,
   "metadata": {},
   "outputs": [
    {
     "ename": "",
     "evalue": "",
     "output_type": "error",
     "traceback": [
      "\u001b[1;31mRunning cells with 'c:\\Users\\47800632806\\AppData\\Local\\Microsoft\\WindowsApps\\python3.12.exe' requires the ipykernel package.\n",
      "\u001b[1;31mRun the following command to install 'ipykernel' into the Python environment. \n",
      "\u001b[1;31mCommand: 'c:/Users/47800632806/AppData/Local/Microsoft/WindowsApps/python3.12.exe -m pip install ipykernel -U --user --force-reinstall'"
     ]
    }
   ],
   "source": [
    "#contagem regressiva\n",
    "import time #importa uma biblioteca de tempo\n",
    "x = 10\n",
    "while x >= 0 :\n",
    "    print(x)\n",
    "    X = x - 1 \n",
    "    time.sleep(1) # dando pausa de 1s na execução\n",
    "print(\"feliz ano novo!\")\n"
   ]
  },
  {
   "cell_type": "code",
   "execution_count": null,
   "metadata": {},
   "outputs": [],
   "source": [
    "texto = ''\n",
    "while texto != \"sair\" :\n",
    "    texto = input(\"digite \"sair\" para terminar\")\n",
    "    print(f\"seja bem vindo, {texto}\")\n"
   ]
  },
  {
   "cell_type": "code",
   "execution_count": null,
   "metadata": {},
   "outputs": [
    {
     "name": "stdout",
     "output_type": "stream",
     "text": [
      "Você hackeou a rede\n",
      "FIM\n"
     ]
    }
   ],
   "source": [
    "senha_senai = \"12345\"\n",
    "tentativas = 0\n",
    "while True :\n",
    "    senha = input(\"qual é a senha? Desisto para sair\")\n",
    "    if senha == senha_senai:\n",
    "        print(\"Você hackeou a rede\")\n",
    "        break #para parar o while\n",
    "    elif senha == \"Desisto\" :\n",
    "        break\n",
    "    else :\n",
    "        tentativas += 1\n",
    "        if tentativas == 3 : #limite de tentativas\n",
    "            print(\"Voce esta preso tentando hackear a rede\")\n",
    "            break\n",
    "print(\"FIM\")"
   ]
  },
  {
   "cell_type": "markdown",
   "metadata": {},
   "source": [
    "21/03/2024 - Revisão de While"
   ]
  },
  {
   "cell_type": "code",
   "execution_count": null,
   "metadata": {},
   "outputs": [
    {
     "name": "stdout",
     "output_type": "stream",
     "text": [
      "FIM\n"
     ]
    }
   ],
   "source": [
    "resp = 'S'\n",
    "while resp == 'S' :\n",
    "    resp = input('Deseja continuar? [S/N]')\n",
    "\n",
    "print('FIM')"
   ]
  },
  {
   "cell_type": "code",
   "execution_count": null,
   "metadata": {},
   "outputs": [
    {
     "name": "stdout",
     "output_type": "stream",
     "text": [
      "Valor total R$  0.00 quantidade Produto = 0\n"
     ]
    }
   ],
   "source": [
    "soma = 0\n",
    "qtde = 0\n",
    "while True :\n",
    "    valor = float(input('Digite o valor do produto [-1 para encerrar]'))\n",
    "    if valor == -1 :\n",
    "        break\n",
    "    soma = valor + soma\n",
    "    qtde = qtde + 1\n",
    "   \n",
    "\n",
    "print(f'Valor total R$ {soma: .2f} quantidade Produto = {qtde}')\n"
   ]
  },
  {
   "cell_type": "code",
   "execution_count": null,
   "metadata": {},
   "outputs": [
    {
     "name": "stdout",
     "output_type": "stream",
     "text": [
      "-=-=-=-=-==-=-=-=-=-=-=-=-=-=-=-=-=-\n",
      " (ﾉ◕ヮ◕)ﾉ*:･ﾟJOGO DA ADIVINHAÇÂO ✧\n",
      "-=-=-=-=-==-=-=-=-=-=-=-=-=-=-=-=-=-\n",
      "Você chutou 45. Tente um número 👆🏻\n",
      "Você chutou 50. Tente um número 👆🏻\n",
      "Você chutou 78. Tente um número 👇🏻\n",
      "Você chutou 78. Tente um número 👇🏻\n",
      "Você chutou 70. Tente um número 👇🏻\n",
      "Você chutou 69. Tente um número 👇🏻\n",
      "Você chutou 65. Tente um número 👇🏻\n",
      "Você chutou 58. Tente um número 👇🏻\n",
      "Você chutou 58. Tente um número 👇🏻\n",
      "Você chutou 54. Tente um número 👇🏻\n",
      "Você chutou 49. Tente um número 👆🏻\n",
      "Você chutou 50. Tente um número 👆🏻\n",
      "Você chutou 50. Tente um número 👆🏻\n",
      "Você chutou 51. Tente um número 👆🏻\n",
      "Você chutou 52. Parabéns você acertou 👏🏻👏🏻👏🏻\n"
     ]
    }
   ],
   "source": [
    "import random\n",
    "nrSorteado = random.randint(1, 100)\n",
    "#print(nrSorteado)\n",
    "\n",
    "print('-=-=-=-=-==-=-=-=-=-=-=-=-=-=-=-=-=-')\n",
    "print(' (ﾉ◕ヮ◕)ﾉ*:･ﾟJOGO DA ADIVINHAÇÂO ✧')\n",
    "print('-=-=-=-=-==-=-=-=-=-=-=-=-=-=-=-=-=-')\n",
    "\n",
    "acertou = False\n",
    "while acertou == False :\n",
    "    chute = int(input('🕵🏻‍♀️Digite um número entre 1 e 100'))\n",
    "    if chute == nrSorteado :\n",
    "        print(f'Você chutou {chute}. Parabéns você acertou 👏🏻👏🏻👏🏻')\n",
    "        acertou = True\n",
    "    elif chute > nrSorteado :\n",
    "        print(f'Você chutou {chute}. Tente um número 👇🏻')\n",
    "    else :\n",
    "        print(f'Você chutou {chute}. Tente um número 👆🏻')\n",
    "            \n"
   ]
  },
  {
   "cell_type": "markdown",
   "metadata": {},
   "source": [
    "22/03/2024 - For"
   ]
  },
  {
   "cell_type": "code",
   "execution_count": null,
   "metadata": {},
   "outputs": [
    {
     "name": "stdout",
     "output_type": "stream",
     "text": [
      "0\n",
      "1\n",
      "2\n",
      "3\n",
      "4\n",
      "5\n",
      "6\n",
      "7\n",
      "8\n",
      "9\n"
     ]
    }
   ],
   "source": [
    "#x = 1\n",
    "#while x <= 20:\n",
    "#   print(x)\n",
    "#   x = x + 1\n",
    "#print(\"FIM\")\n",
    "for x in range (10) :\n",
    "    print(x)\n"
   ]
  },
  {
   "cell_type": "code",
   "execution_count": null,
   "metadata": {},
   "outputs": [
    {
     "name": "stdout",
     "output_type": "stream",
     "text": [
      "entregando os notebooks\n",
      "Pegar o notebook 1\n",
      "pegar o mouse 1\n",
      "Levar o notebook até o(a) arthur m\n",
      "Pegar o notebook 2\n",
      "pegar o mouse 2\n",
      "Levar o notebook até o(a) arthur p\n",
      "começar aula\n"
     ]
    }
   ],
   "source": [
    "print(\"entregando os notebooks\")\n",
    "for nr in range (32) :\n",
    "    nr = nr + 1 \n",
    "   # print(nr)\n",
    "    nome = input(f'quem é o nº {nr}? ')\n",
    "    presente = input(f'o(a) {nome} veio para a escola? [S/N]')\n",
    "    if presente == 'S' :\n",
    "        print(f'Pegar o notebook {nr}')\n",
    "        print(f'pegar o mouse {nr}')\n",
    "        print(f'Levar o notebook até o(a) {nome}')\n",
    "    else :\n",
    "        print(\"não pegar o notebook {nr}\")\n",
    "\n",
    "print(\"começar aula\")\n"
   ]
  },
  {
   "cell_type": "markdown",
   "metadata": {},
   "source": [
    "Aula 04/04/2024 - Iteração em listas "
   ]
  },
  {
   "cell_type": "code",
   "execution_count": null,
   "metadata": {},
   "outputs": [
    {
     "name": "stdout",
     "output_type": "stream",
     "text": [
      "5\n",
      "6\n",
      "7\n",
      "8\n",
      "9\n"
     ]
    }
   ],
   "source": [
    "for x in range(5,10) :\n",
    "    print(x)\n",
    "\n"
   ]
  },
  {
   "cell_type": "code",
   "execution_count": null,
   "metadata": {},
   "outputs": [
    {
     "name": "stdout",
     "output_type": "stream",
     "text": [
      "5\n",
      "7\n",
      "9\n",
      "11\n",
      "13\n",
      "15\n",
      "17\n",
      "19\n",
      "21\n",
      "23\n",
      "25\n",
      "27\n",
      "29\n"
     ]
    }
   ],
   "source": [
    "for X in range (5, 30, 2) : #vai mostrar de 2 em 2\n",
    "    print(X)"
   ]
  },
  {
   "cell_type": "code",
   "execution_count": null,
   "metadata": {},
   "outputs": [
    {
     "name": "stdout",
     "output_type": "stream",
     "text": [
      "1497 x 0 = 0\n",
      "1497 x 1 = 1497\n",
      "1497 x 2 = 2994\n",
      "1497 x 3 = 4491\n",
      "1497 x 4 = 5988\n",
      "1497 x 5 = 7485\n",
      "1497 x 6 = 8982\n",
      "1497 x 7 = 10479\n",
      "1497 x 8 = 11976\n",
      "1497 x 9 = 13473\n",
      "1497 x 10 = 14970\n"
     ]
    }
   ],
   "source": [
    "n = int(input(\"Digite o nmr: \"))\n",
    "for x in range (11) :\n",
    "    print(f'{n} x {x} = {n*x}')"
   ]
  },
  {
   "cell_type": "code",
   "execution_count": null,
   "metadata": {},
   "outputs": [
    {
     "name": "stdout",
     "output_type": "stream",
     "text": [
      "S\n",
      "E\n",
      "S\n",
      "I\n",
      "/\n",
      "S\n",
      "E\n",
      "N\n",
      "A\n",
      "I\n",
      "fIM\n"
     ]
    }
   ],
   "source": [
    "for letra in 'SESI/SENAI' :\n",
    "    print(letra)\n",
    "print(\"fIM\")"
   ]
  },
  {
   "cell_type": "code",
   "execution_count": null,
   "metadata": {},
   "outputs": [
    {
     "name": "stdout",
     "output_type": "stream",
     "text": [
      "0\n",
      "1\n",
      "2\n",
      "3\n",
      "4\n",
      "5\n",
      "6\n",
      "7\n",
      "8\n",
      "9\n"
     ]
    }
   ],
   "source": [
    "for x in range (100) :\n",
    "    if x == 10 :\n",
    "        break\n",
    "    print(x)"
   ]
  },
  {
   "cell_type": "markdown",
   "metadata": {},
   "source": [
    "28/03/2024 - Variáveis compostas - Vetores/listas"
   ]
  },
  {
   "cell_type": "code",
   "execution_count": null,
   "metadata": {},
   "outputs": [
    {
     "name": "stdout",
     "output_type": "stream",
     "text": [
      "['maça', 'banana', 'abacaxi', 'Uva']\n",
      "maça\n"
     ]
    }
   ],
   "source": [
    "frutas = [\"maça\", \"banana\", \"abacaxi\", \"Uva\"] \n",
    "#toda vez que vemos um colchte estamos falando sobre vetor, sendo assim uma variável composta\n",
    "print(frutas)\n",
    "print(frutas [0]) #usamos o colchete para indicar o que vamos utilizar/imprimir\n",
    "\n",
    "#Declaração de uma lista vazia\n",
    "lista_vazia = []\n",
    "\n",
    "#Declaração de uma lista de números\n",
    "numeros = {5, 8, 10, 40, 3}\n",
    "\n",
    "#Declaração de uma lista de strings\n",
    "nomes = [\"Ana\", \"João\", \"Maria\"]\n",
    "\n",
    "#Declaração de uma lista mista\n",
    "lista_mista = [1, \"teste\", True, 3.5]"
   ]
  },
  {
   "cell_type": "code",
   "execution_count": null,
   "metadata": {},
   "outputs": [
    {
     "name": "stdout",
     "output_type": "stream",
     "text": [
      "['maça', 'banana', 'abacaxi', 'melancia']\n",
      "['maça', 'banana', 'abacaxi', 'melancia', 'laranja']\n",
      "['maça', 'banana', 'morango', 'abacaxi', 'melancia', 'laranja']\n",
      "['maça', 'banana', 'morango', 'melancia', 'laranja']\n"
     ]
    }
   ],
   "source": [
    "frutas = [\"maça\", \"banana\", \"abacaxi\", \"uva\"] #lembrando que sempre começa por 0\n",
    "frutas[3] = \"melancia\" #para atualizar o valor de determinado elemento da lista (tira um entra outro)\n",
    "print(frutas)\n",
    "\n",
    "#incluindo um novo item no final da lista\n",
    "frutas.append('laranja')\n",
    "print(frutas)\n",
    "\n",
    "#Incluindo um novo item em uma posição específica\n",
    "frutas.insert(2, 'morango')\n",
    "print(frutas)\n",
    "\n",
    "#Excluindo um item da lista\n",
    "del frutas[3]\n",
    "print(frutas)\n",
    "\n",
    "#outras formas de excluir\n",
    "#frutas.pop(3)\n",
    "#frutas.remove(\"abacaxi\")\n"
   ]
  },
  {
   "cell_type": "code",
   "execution_count": null,
   "metadata": {},
   "outputs": [
    {
     "name": "stdout",
     "output_type": "stream",
     "text": [
      "melancia\n",
      "['maça', 'banana', 'morango', 'abacaxi']\n",
      "['banana', 'morango', 'abacaxi', 'melancia', 'laranja', 'uva']\n",
      "uva\n",
      "7\n"
     ]
    }
   ],
   "source": [
    "#exibir itens da lista\n",
    "frutas = [\"maça\", \"banana\", \"morango\", \"abacaxi\", \"melancia\", \"laranja\", \"uva\"]\n",
    "print(frutas[4]) #posição específica\n",
    "print(frutas[0:4]) #da posição 0 pegar 4 itens\n",
    "print(frutas[1:]) # da posição 1 até o ultimo\n",
    "print(frutas[-1]) #nr de itens do fim para o inicio\n",
    "print(len(frutas)) #total de itens na lista"
   ]
  },
  {
   "cell_type": "code",
   "execution_count": null,
   "metadata": {},
   "outputs": [
    {
     "name": "stdout",
     "output_type": "stream",
     "text": [
      "['abacaxi', 'banana', 'laranja', 'maça', 'melancia', 'morango', 'uva']\n",
      "['uva', 'morango', 'melancia', 'maça', 'laranja', 'banana', 'abacaxi']\n"
     ]
    }
   ],
   "source": [
    "frutas = [\"maça\", \"banana\", \"morango\", \"abacaxi\", \"melancia\", \"laranja\", \"uva\"]\n",
    "\n",
    "frutas.sort() #Ordem crescente\n",
    "print(frutas)\n",
    "\n",
    "frutas.reverse() #Ordem decrescente\n",
    "print(frutas)\n"
   ]
  },
  {
   "cell_type": "markdown",
   "metadata": {},
   "source": [
    "Aula 04/04/2024 - Interação em listas "
   ]
  },
  {
   "cell_type": "code",
   "execution_count": null,
   "metadata": {},
   "outputs": [
    {
     "name": "stdout",
     "output_type": "stream",
     "text": [
      "É uma vogal\n"
     ]
    }
   ],
   "source": [
    "#Criando uma lista de vogais\n",
    "vogais = ['a', 'e', 'i', 'o', 'u']\n",
    "consoantes = ['B', 'C', 'D','F', 'G', 'J', 'K', 'L', 'M', 'N', 'P', 'Q', 'R', 'S', 'T', 'V', 'W', 'X', 'Z']\n",
    "numero = ['1', '2', '3', '4', '5', '6', '7', '8', '9']\n",
    "#recebendo um caractere digitado pelo usuario \n",
    "letra = input('informe um caractere')\n",
    "# O método .lower() deixa todas as letras digitadas como minúscula\n",
    "# O método .upper() deixa todas as letras digitadas como maiúscula\n",
    "# Lemos da seguinte forma:\n",
    "# SE a letra em MINÚSCULAS ESTIVER na lista de vogais ENTÃO\n",
    "if letra.lower() in vogais :\n",
    "    print('É uma vogal')\n",
    "elif letra.lower() in consoantes :\n",
    "    print('é uma consoante')\n",
    "elif letra.lower() in numero :\n",
    "    print(f'O caractere {letra} é um número')"
   ]
  },
  {
   "cell_type": "code",
   "execution_count": null,
   "metadata": {},
   "outputs": [
    {
     "name": "stdout",
     "output_type": "stream",
     "text": [
      "Bem\n",
      "Mal\n",
      "Ivi\n",
      "Carlos\n",
      "Uma\n"
     ]
    }
   ],
   "source": [
    "listaNomes = ['Bem', 'Mal', 'Ivi', 'Carlos', 'Uma']\n",
    "for nome in listaNomes :\n",
    "     print (nome)"
   ]
  },
  {
   "cell_type": "code",
   "execution_count": null,
   "metadata": {},
   "outputs": [
    {
     "name": "stdout",
     "output_type": "stream",
     "text": [
      "8\n"
     ]
    }
   ],
   "source": [
    "\n",
    "#utilizando lista com números \n",
    "\n",
    "listaNumero = [4, 5, 6, 7, 8]\n",
    "soma = 0 \n",
    "\n",
    "for nr in listaNumero :\n",
    "    soma = soma = nr\n",
    "print(soma)\n",
    "\n",
    "#essa função"
   ]
  },
  {
   "cell_type": "code",
   "execution_count": null,
   "metadata": {},
   "outputs": [
    {
     "name": "stdout",
     "output_type": "stream",
     "text": [
      "A fruta maçã esta na posição 0\n",
      "A fruta banana esta na posição 1\n",
      "A fruta abacaxi esta na posição 2\n",
      "A fruta uva esta na posição 3\n"
     ]
    }
   ],
   "source": [
    "listaFruta = ['maçã', 'banana', 'abacaxi', 'uva']\n",
    "for pos,fruta in enumerate(listaFruta) :\n",
    "    print(f'A fruta {fruta} esta na posição {pos}')"
   ]
  },
  {
   "cell_type": "code",
   "execution_count": null,
   "metadata": {},
   "outputs": [
    {
     "name": "stdout",
     "output_type": "stream",
     "text": [
      "celular\n",
      "notebook\n",
      "tv\n",
      "tablet\n",
      "headset\n"
     ]
    }
   ],
   "source": [
    "produtos = 'celular,notebook,tv,tablet,headset'\n",
    "listaProdutos = produtos.split(',')\n",
    "\n",
    "for produto in listaProdutos :\n",
    "    print (produto)"
   ]
  },
  {
   "cell_type": "code",
   "execution_count": null,
   "metadata": {},
   "outputs": [
    {
     "name": "stdout",
     "output_type": "stream",
     "text": [
      "S\n",
      "E\n",
      "N\n",
      "A\n",
      "I\n"
     ]
    }
   ],
   "source": [
    "palavra = 'SENAI'\n",
    "for letra in palavra :\n",
    "    print(letra)"
   ]
  },
  {
   "cell_type": "markdown",
   "metadata": {},
   "source": [
    "05/04/2024 - Revisão"
   ]
  },
  {
   "cell_type": "code",
   "execution_count": null,
   "metadata": {},
   "outputs": [
    {
     "name": "stdout",
     "output_type": "stream",
     "text": [
      "1º Lasanha\n",
      "2º Arroz de fonro\n",
      "3º macarrão\n"
     ]
    }
   ],
   "source": [
    "#CRIANDO UMA LISTA VAZIA \n",
    "listaComidas = []\n",
    "#Laço de repetição sem um nr de execução definida\n",
    "while True :\n",
    "    #Recebendo informação do usuário e amarzenando em uma variável\n",
    "    comida = input(\"Digite uma comida que você mais gosta\")\n",
    "    #Inserindo o valor da variável no final da lista\n",
    "    listaComidas.append(comida)\n",
    "    #Obtendo a resposta do usuário se desejar continuar\n",
    "    resp = input(\"Deseja continuar? S/N\")\n",
    "    #Verificando a condição da resposta dele, se for N sair do laço\n",
    "    if resp in \"Nn\"  :  # ou if resp.uuper() == \"S\" :\n",
    "        #parando o laço de repetição while\n",
    "        break\n",
    "    #Fora do while - após finalizar sua executação e encontrar o break\n",
    "    #Laço de repetição para exibir os itens e suas posições \n",
    "for pos, comida in enumerate(listaComidas) :\n",
    "        #Exibindo as variáveis de cada item da lista\n",
    "    print(f\"{pos+1}º {comida}\")    \n",
    "# o \"pos + 1\" serve para que a impressão/exibição da lista começe a partir do 1 e não do zero (para ficar mais coerente para o usuário), ainda assim isso serve apenas \n",
    "#para a exebição, já que o valor continua registrada como 0 no sistema        \n"
   ]
  },
  {
   "cell_type": "markdown",
   "metadata": {},
   "source": [
    "11/04/2024 - Funções\n"
   ]
  },
  {
   "cell_type": "code",
   "execution_count": null,
   "metadata": {},
   "outputs": [
    {
     "name": "stdout",
     "output_type": "stream",
     "text": [
      "🎆🎪🎇🎆🎪🎇🎆🎪🎇🎆🎪🎇🎆🎪🎇🎆🎪🎇🎆🎪🎇🎆🎪🎇🎆🎪🎇🎆🎪🎇🎆🎪🎇🎆🎪🎇🎆🎪🎇🎆🎪🎇🎆🎪🎇🎆🎪🎇🎆🎪🎇🎆🎪🎇🎆🎪🎇🎆🎪🎇🎆🎪🎇🎆🎪🎇🎆🎪🎇🎆🎪🎇 5\n",
      "🎆🎪🎇🎆🎪🎇🎆🎪🎇🎆🎪🎇🎆🎪🎇🎆🎪🎇🎆🎪🎇🎆🎪🎇🎆🎪🎇🎆🎪🎇🎆🎪🎇🎆🎪🎇🎆🎪🎇🎆🎪🎇🎆🎪🎇🎆🎪🎇🎆🎪🎇🎆🎪🎇🎆🎪🎇🎆🎪🎇🎆🎪🎇🎆🎪🎇🎆🎪🎇🎆🎪🎇 5\n",
      "🎆🎪🎇🎆🎪🎇🎆🎪🎇🎆🎪🎇🎆🎪🎇🎆🎪🎇🎆🎪🎇🎆🎪🎇🎆🎪🎇🎆🎪🎇🎆🎪🎇🎆🎪🎇🎆🎪🎇🎆🎪🎇🎆🎪🎇🎆🎪🎇🎆🎪🎇🎆🎪🎇🎆🎪🎇🎆🎪🎇🎆🎪🎇🎆🎪🎇🎆🎪🎇🎆🎪🎇 5\n"
     ]
    }
   ],
   "source": [
    "def fofo():\n",
    "    print(\"🎆🎪🎇\" * 24,5)\n",
    "fofo()\n",
    "fofo()\n",
    "fofo()"
   ]
  },
  {
   "cell_type": "code",
   "execution_count": null,
   "metadata": {},
   "outputs": [
    {
     "name": "stdout",
     "output_type": "stream",
     "text": [
      "--------------------\n",
      "    SESI / SENAI   \n",
      "--------------------\n"
     ]
    }
   ],
   "source": [
    "print('-' * 20) #isso serve para repetir o caracter(es) dentro das aspas o número de vezes pré determinadas\n",
    "print(\"    SESI / SENAI   \")\n",
    "print('-' * 20)"
   ]
  },
  {
   "cell_type": "code",
   "execution_count": null,
   "metadata": {},
   "outputs": [
    {
     "name": "stdout",
     "output_type": "stream",
     "text": [
      "--------------------\n",
      "   SESI / SENAI\n",
      "--------------------\n"
     ]
    }
   ],
   "source": [
    "def Linha() :\n",
    "    print('-' * 20)\n",
    "\n",
    "Linha() #temos que c hamar a linha\n",
    "print(\"   SESI / SENAI\")\n",
    "Linha()"
   ]
  },
  {
   "cell_type": "code",
   "execution_count": null,
   "metadata": {},
   "outputs": [
    {
     "name": "stdout",
     "output_type": "stream",
     "text": [
      "--------------------\n",
      "   SESI / SENAI\n",
      "--------------------\n",
      "--------------------\n",
      "   SESI / SENAI\n",
      "--------------------\n",
      "--------------------\n",
      "   SESI / SENAI\n",
      "--------------------\n"
     ]
    }
   ],
   "source": [
    "def Linha() :\n",
    "    print('-' * 20)\n",
    "\n",
    "def Cabeçalho() :\n",
    "    Linha()\n",
    "    print(\"   SESI / SENAI\")\n",
    "    Linha()\n",
    "\n",
    "Cabeçalho()\n",
    "Cabeçalho()\n",
    "Cabeçalho()"
   ]
  },
  {
   "cell_type": "code",
   "execution_count": null,
   "metadata": {},
   "outputs": [
    {
     "name": "stdout",
     "output_type": "stream",
     "text": [
      "Juliana tenha um bom dia!\n",
      "Lívia d tenha um bom dia!\n",
      "Natalie tenha um bom dia!\n"
     ]
    }
   ],
   "source": [
    "#|saudação\n",
    "def Saudação() :\n",
    "    nome = input(\"escreva aqui o seu nome\")\n",
    "    print(f\"{nome} tenha um bom dia!\")\n",
    "\n",
    "Saudação()\n",
    "Saudação()\n",
    "Saudação()\n"
   ]
  },
  {
   "cell_type": "code",
   "execution_count": null,
   "metadata": {},
   "outputs": [
    {
     "name": "stdout",
     "output_type": "stream",
     "text": [
      "Juliana tenha um bom dia!\n",
      "Natalie tenha um bom dia!\n",
      "Mariah tenha um bom dia!\n"
     ]
    }
   ],
   "source": [
    "#|saudação\n",
    "def Saudação() :\n",
    "    nome = input(\"escreva aqui o seu nome\")\n",
    "    print(f\"{nome} tenha um bom dia!\")\n",
    "for n in range(3): #da pra fazer assim também pra economizar linhas de código ^_~ (q fofo)\n",
    "    Saudação()"
   ]
  },
  {
   "cell_type": "code",
   "execution_count": null,
   "metadata": {},
   "outputs": [
    {
     "name": "stdout",
     "output_type": "stream",
     "text": [
      "⠀⠀⠀⢀⠴⠊⠁⠀⠀⠀⠀⠀⠀⠀⠀⠀⠀⠀⠀⠉⠲⣄⠀⠀\n",
      "⠀⠀⡰⠃⠀⠀⠀⠀⠀⠀⠀⠀⠀⠀⠀⠀⠀⠀⠀⠀⠀⠈⢧⠀⠀\n",
      "⠀⡸⠁⠀⠀⠀⠀⠀⠀⠀⠀⠀⠀⠀⠀⠀⠀⠀⠀⠀⠀⠀⠀ ⢇⠀\n",
      "⠀⡇⠀⠀⠀⢀⡶⠛⣿⣷⡄⠀⠀⠀⣰⣿⠛⢿⣷⡄⠀⠀⠀⢸⠀\n",
      "⠀⡇⠀⠀⠀⢸⣷⣶⣿⣿⡇⠀⠀⠀⢻⣿⣶⣿⣿⣿⠀⠀⠀⢸⠀\n",
      "⠀⡇⠀⠀⠀⠈⠛⠻⠿⠟⠁⠀⠀⠀⠈⠛⠻⠿⠛⠁⠀⠀⠀⢸⠀\n",
      "⠀⠹⣄⠀⠀⠀⠀⠀⠀⠀⠀⢀⣀⣀⠀⠀⠀⠀⠀⠀⠀⠀⣠⠏⠀\n",
      "⠀⠀⠈⠢⣄⠀⠀⠀⠀⠀⠀⠀⠀⠀⠀⠀⠀⠀⠀⣀⣤⣚⡁⠀⠀\n",
      "⠀⠀⠀⠀⠈⠙⠒⢢⡤⠤⠤⠤⠤⠤⠖⠒⠒⠋⠉⠉⠀⠉⠉⢦\n",
      "⠀⠀⠀⠀⠀⠀⠀⢸⠀⠀⠀⠀⠀⠀⠀⠀⠀⠀⠀⠀⠀⠀⠀⠀   ⢸\n",
      "⠀⠀⠀⠀⠀⠀⠀⢸⡀⠀⠀⠀⠀⣤⠀⠀⠀⢀⣀⣀⣀⠀⠀⠀  ⢸\n",
      "⠀⠀⠀⠀⠀⠀⠀⠈⡇⠀⠀⠀⢠⣿⠀⠀⠀⢸⠀⠀⣿⠀⠀⠀  ⣸\n",
      "⠀⠀⠀⠀⠀⠀⠀⠀⢱⠀⠀⠀⢸⠘⡆⠀⠀⢸⣀⡰⠋⣆⠀ ⣠⠇\n",
      "⠀⠀⠀⠀⠀⠀⠀⠀⠀⠳⠤⠤⠼⠀⠘⠤⠴⠃⠀⠀⠀⠈⠉⠁⠀\n"
     ]
    }
   ],
   "source": [
    "def yippee():\n",
    "    print('⠀⠀⠀⢀⠴⠊⠁⠀⠀⠀⠀⠀⠀⠀⠀⠀⠀⠀⠀⠉⠲⣄⠀⠀')\n",
    "    print('⠀⠀⡰⠃⠀⠀⠀⠀⠀⠀⠀⠀⠀⠀⠀⠀⠀⠀⠀⠀⠀⠈⢧⠀⠀')\n",
    "    print('⠀⡸⠁⠀⠀⠀⠀⠀⠀⠀⠀⠀⠀⠀⠀⠀⠀⠀⠀⠀⠀⠀⠀ ⢇⠀')\n",
    "    print('⠀⡇⠀⠀⠀⢀⡶⠛⣿⣷⡄⠀⠀⠀⣰⣿⠛⢿⣷⡄⠀⠀⠀⢸⠀')\n",
    "    print('⠀⡇⠀⠀⠀⢸⣷⣶⣿⣿⡇⠀⠀⠀⢻⣿⣶⣿⣿⣿⠀⠀⠀⢸⠀')\n",
    "    print('⠀⡇⠀⠀⠀⠈⠛⠻⠿⠟⠁⠀⠀⠀⠈⠛⠻⠿⠛⠁⠀⠀⠀⢸⠀')\n",
    "    print('⠀⠹⣄⠀⠀⠀⠀⠀⠀⠀⠀⢀⣀⣀⠀⠀⠀⠀⠀⠀⠀⠀⣠⠏⠀')\n",
    "    print('⠀⠀⠈⠢⣄⠀⠀⠀⠀⠀⠀⠀⠀⠀⠀⠀⠀⠀⠀⣀⣤⣚⡁⠀⠀')\n",
    "    print('⠀⠀⠀⠀⠈⠙⠒⢢⡤⠤⠤⠤⠤⠤⠖⠒⠒⠋⠉⠉⠀⠉⠉⢦')\n",
    "    print('⠀⠀⠀⠀⠀⠀⠀⢸⠀⠀⠀⠀⠀⠀⠀⠀⠀⠀⠀⠀⠀⠀⠀⠀   ⢸')\n",
    "    print('⠀⠀⠀⠀⠀⠀⠀⢸⡀⠀⠀⠀⠀⣤⠀⠀⠀⢀⣀⣀⣀⠀⠀⠀  ⢸')\n",
    "    print('⠀⠀⠀⠀⠀⠀⠀⠈⡇⠀⠀⠀⢠⣿⠀⠀⠀⢸⠀⠀⣿⠀⠀⠀  ⣸')\n",
    "    print('⠀⠀⠀⠀⠀⠀⠀⠀⢱⠀⠀⠀⢸⠘⡆⠀⠀⢸⣀⡰⠋⣆⠀ ⣠⠇')\n",
    "    print('⠀⠀⠀⠀⠀⠀⠀⠀⠀⠳⠤⠤⠼⠀⠘⠤⠴⠃⠀⠀⠀⠈⠉⠁⠀')\n",
    "yippee()"
   ]
  },
  {
   "cell_type": "code",
   "execution_count": null,
   "metadata": {},
   "outputs": [
    {
     "name": "stdout",
     "output_type": "stream",
     "text": [
      "--------------------\n",
      "        SESI \n",
      "--------------------\n",
      "--------------------\n",
      "       SENAI\n",
      "--------------------\n",
      "--------------------\n",
      "       ESCOLA\n",
      "--------------------\n"
     ]
    }
   ],
   "source": [
    "def Cabeçalho(texto) :\n",
    "    Linha()\n",
    "    print(texto)\n",
    "    Linha()\n",
    "    \n",
    "Cabeçalho(\"        SESI \")\n",
    "Cabeçalho(\"       SENAI\")\n",
    "Cabeçalho(\"       ESCOLA\")"
   ]
  },
  {
   "cell_type": "code",
   "execution_count": null,
   "metadata": {},
   "outputs": [
    {
     "name": "stdout",
     "output_type": "stream",
     "text": [
      "A soma de 5 + 10 é 15\n",
      "A soma de 14141414141414141 + 12121212121212121 é 26262626262626262\n",
      "A soma de 15 + 19 é 34\n"
     ]
    }
   ],
   "source": [
    "def soma(n1, n2):\n",
    "    res = n1 + n2\n",
    "    print(f\"A soma de {n1} + {n2} é {res}\")\n",
    "soma(5, 10)\n",
    "soma(14141414141414141, 12121212121212121)\n",
    "soma(15,19)"
   ]
  },
  {
   "cell_type": "code",
   "execution_count": null,
   "metadata": {},
   "outputs": [
    {
     "name": "stdout",
     "output_type": "stream",
     "text": [
      "🎆🎪🎇🎆🎪🎇🎆🎪🎇🎆🎪🎇🎆🎪🎇🎆🎪🎇🎆🎪🎇🎆🎪🎇🎆🎪🎇🎆🎪🎇🎆🎪🎇🎆🎪🎇🎆🎪🎇🎆🎪🎇🎆🎪🎇🎆🎪🎇🎆🎪🎇🎆🎪🎇🎆🎪🎇🎆🎪🎇🎆🎪🎇🎆🎪🎇🎆🎪🎇🎆🎪🎇 5\n",
      "🎆🎪🎇🎆🎪🎇🎆🎪🎇🎆🎪🎇🎆🎪🎇🎆🎪🎇🎆🎪🎇🎆🎪🎇🎆🎪🎇🎆🎪🎇🎆🎪🎇🎆🎪🎇🎆🎪🎇🎆🎪🎇🎆🎪🎇🎆🎪🎇🎆🎪🎇🎆🎪🎇🎆🎪🎇🎆🎪🎇🎆🎪🎇🎆🎪🎇🎆🎪🎇🎆🎪🎇 5\n",
      "🎆🎪🎇🎆🎪🎇🎆🎪🎇🎆🎪🎇🎆🎪🎇🎆🎪🎇🎆🎪🎇🎆🎪🎇🎆🎪🎇🎆🎪🎇🎆🎪🎇🎆🎪🎇🎆🎪🎇🎆🎪🎇🎆🎪🎇🎆🎪🎇🎆🎪🎇🎆🎪🎇🎆🎪🎇🎆🎪🎇🎆🎪🎇🎆🎪🎇🎆🎪🎇🎆🎪🎇 5\n"
     ]
    }
   ],
   "source": [
    "def fofo():\n",
    "    print(\"🎆🎪🎇\" * 24,5)\n",
    "fofo()\n",
    "fofo()\n",
    "fofo()\n"
   ]
  },
  {
   "cell_type": "code",
   "execution_count": null,
   "metadata": {},
   "outputs": [
    {
     "name": "stdout",
     "output_type": "stream",
     "text": [
      " o número 50 é par\n",
      "o número 21 é inpar\n"
     ]
    }
   ],
   "source": [
    "def ParImpar():\n",
    "    numero = int(input(\"Digite aqui o número\"))\n",
    "    if numero % 2 == 0:\n",
    "        print(f\" o número {numero} é par\")\n",
    "    else :\n",
    "        print(f\"o número {numero} é inpar\")\n",
    "ParImpar()\n",
    "ParImpar()\n"
   ]
  },
  {
   "cell_type": "code",
   "execution_count": null,
   "metadata": {},
   "outputs": [
    {
     "name": "stdout",
     "output_type": "stream",
     "text": [
      "o número 45 é inpar\n",
      " o número 12 é par\n"
     ]
    }
   ],
   "source": [
    "def ParImpar(numero):\n",
    "    if numero % 2 == 0:\n",
    "        print(f\" o número {numero} é par\")\n",
    "    else :\n",
    "        print(f\"o número {numero} é inpar\")\n",
    "numero = int(input(\"Digite aqui o seu número\"))\n",
    "ParImpar(numero)\n",
    "numero = int(input(\"Digite aqui o seu numero\"))\n",
    "ParImpar(numero)"
   ]
  },
  {
   "cell_type": "code",
   "execution_count": null,
   "metadata": {},
   "outputs": [
    {
     "name": "stdout",
     "output_type": "stream",
     "text": [
      "o número 45 é inpar\n",
      " o número 12 é par\n"
     ]
    }
   ],
   "source": [
    "def ParImpar(numero):\n",
    "    if numero % 2 == 0:\n",
    "        print(f\" o número {numero} é par\")\n",
    "    else :\n",
    "        print(f\"o número {numero} é inpar\")\n",
    "for n in range(2):\n",
    "    numero = int(input(\"Digite aqui o seu número\"))\n",
    "    ParImpar(numero)"
   ]
  },
  {
   "cell_type": "code",
   "execution_count": null,
   "metadata": {},
   "outputs": [
    {
     "name": "stdout",
     "output_type": "stream",
     "text": [
      "o número 9 é inpar\n",
      " o número 10 é par\n"
     ]
    }
   ],
   "source": [
    "def ParImpar(numero):\n",
    "    if numero % 2 == 0:\n",
    "        print(f\" o número {numero} é par\")\n",
    "    else :\n",
    "        print(f\"o número {numero} é inpar\")\n",
    "ParImpar(9)\n",
    "ParImpar(10)"
   ]
  },
  {
   "cell_type": "code",
   "execution_count": null,
   "metadata": {},
   "outputs": [
    {
     "data": {
      "text/plain": [
       "9.0"
      ]
     },
     "execution_count": 108,
     "metadata": {},
     "output_type": "execute_result"
    }
   ],
   "source": [
    "def Media(n1, n2) :\n",
    "    res = (n1 + n2) / 2\n",
    "    return (res)\n",
    "\n",
    "Media(10, 8) #apesar dedc se poder fazer assim devido ao \n",
    "#jupiter, o professor prefere que seja feito da  forma abaixo:.👇🏻"
   ]
  },
  {
   "cell_type": "code",
   "execution_count": null,
   "metadata": {},
   "outputs": [
    {
     "name": "stdout",
     "output_type": "stream",
     "text": [
      "9.0\n",
      "6.0\n"
     ]
    }
   ],
   "source": [
    "def Media(n1, n2) :\n",
    "    res = (n1 + n2) / 2\n",
    "    return (res)\n",
    "#A variável resultado_media recebe o retorno da função média\n",
    "Resultado_media = Media(10, 8)\n",
    "print(Resultado_media)\n",
    "print(Media(10, 2))"
   ]
  },
  {
   "cell_type": "code",
   "execution_count": null,
   "metadata": {},
   "outputs": [
    {
     "data": {
      "text/plain": [
       "'17/2/1989'"
      ]
     },
     "execution_count": 123,
     "metadata": {},
     "output_type": "execute_result"
    }
   ],
   "source": [
    "def FormatarData (dia, Mês, ano):\n",
    "    data = (f\"{dia}/{Mês}/{ano}\")\n",
    "    return (data)\n",
    "\n",
    "FormatarData(25,12,1987)\n",
    "\n",
    "FormatarData(17,2, 1989)"
   ]
  },
  {
   "cell_type": "code",
   "execution_count": null,
   "metadata": {},
   "outputs": [
    {
     "name": "stdout",
     "output_type": "stream",
     "text": [
      "25/12/1987\n"
     ]
    },
    {
     "data": {
      "text/plain": [
       "'27/2/1989'"
      ]
     },
     "execution_count": 130,
     "metadata": {},
     "output_type": "execute_result"
    }
   ],
   "source": [
    "def FormatarData (dia, Mes, ano):\n",
    "    data = (f\"{dia}/{Mes}/{ano}\")\n",
    "    return (data)\n",
    "\n",
    "print(FormatarData(25,12,1987))\n",
    "\n",
    "print(FormatarData(27,2,1989)) #coloquei assim pq não estava mandando os dois número para impressão"
   ]
  },
  {
   "cell_type": "code",
   "execution_count": null,
   "metadata": {},
   "outputs": [
    {
     "name": "stdout",
     "output_type": "stream",
     "text": [
      "25/12/1987\n",
      "27/2/1989\n"
     ]
    }
   ],
   "source": [
    "def FormatarData ():\n",
    "    dia = int(input(\"digite aqui o seu dia\"))\n",
    "    mes =int(input(\"digite aqui o seu mês\"))\n",
    "    ano =int(input(\"digite aqui o seu Ano\"))\n",
    "    data = (f\"{dia}/{mes}/{ano}\")\n",
    "    return (data)\n",
    "\n",
    "for n in range(2):\n",
    "    print(FormatarData())"
   ]
  },
  {
   "cell_type": "markdown",
   "metadata": {},
   "source": [
    "12/04/2024 - Escopo de Variáveis (Variável local e Global)"
   ]
  },
  {
   "cell_type": "code",
   "execution_count": 13,
   "metadata": {},
   "outputs": [
    {
     "name": "stdout",
     "output_type": "stream",
     "text": [
      "SESI\n"
     ]
    }
   ],
   "source": [
    "def NomeEscola(): #variável global (fora da função)\n",
    "    escola = 'SESI' #variável local (dentro da função)\n",
    "    print(escola)\n",
    "\n",
    "NomeEscola()"
   ]
  },
  {
   "cell_type": "code",
   "execution_count": 16,
   "metadata": {},
   "outputs": [
    {
     "name": "stdout",
     "output_type": "stream",
     "text": [
      "Valor ANTES da função SENAI\n",
      "valor dentro da função SESI\n",
      "Valor DEPOIS da função SENAI\n"
     ]
    }
   ],
   "source": [
    "def NomeEscola(): \n",
    "    escola = 'SESI' \n",
    "    print(f\"valor dentro da função {escola}\")\n",
    "\n",
    "escola = \"SENAI\"\n",
    "print(f\"Valor ANTES da função {escola}\")\n",
    "NomeEscola()\n",
    "print(f\"Valor DEPOIS da função {escola}\")"
   ]
  },
  {
   "cell_type": "code",
   "execution_count": 18,
   "metadata": {},
   "outputs": [
    {
     "name": "stdout",
     "output_type": "stream",
     "text": [
      "SENAI\n",
      "SENAI\n"
     ]
    }
   ],
   "source": [
    "def NomeEscola():\n",
    "    print(escola)\n",
    "\n",
    "escola = \"SENAI\"\n",
    "print(escola)\n",
    "NomeEscola()\n",
    "#declarou fora é possível usar\n",
    "#declarou dentro só pode se utilizar dentro"
   ]
  },
  {
   "cell_type": "code",
   "execution_count": 19,
   "metadata": {},
   "outputs": [
    {
     "name": "stdout",
     "output_type": "stream",
     "text": [
      "valor ANTES da função SENAI\n",
      "Valor dentro da função SESI\n",
      "Valor DEPOIS da função SESI\n"
     ]
    }
   ],
   "source": [
    "def NomeEscola():\n",
    "    #Caso eu queira atualizar o conteúdo da variável escola\n",
    "    #preciso escrever que ela é global\n",
    "    global escola\n",
    "    escola = \"SESI\" \n",
    "    print(f'Valor dentro da função {escola}')\n",
    "\n",
    "escola = \"SENAI\"\n",
    "print(f\"valor ANTES da função {escola}\")\n",
    "NomeEscola()\n",
    "print(f\"Valor DEPOIS da função {escola}\")"
   ]
  },
  {
   "cell_type": "code",
   "execution_count": 21,
   "metadata": {},
   "outputs": [
    {
     "name": "stdout",
     "output_type": "stream",
     "text": [
      "fora da função 10\n",
      "dentro da função 1\n",
      "fora da função 10\n"
     ]
    }
   ],
   "source": [
    "x = 10 #x é uma variável global\n",
    "#podemos acessar x força de uma função também\n",
    "print('fora da função', x)\n",
    "\n",
    "def minhaFunção():\n",
    "    x = 0 # <- variável local\n",
    "    x = x + 1\n",
    "    print(\"dentro da função\", x)\n",
    "minhaFunção()\n",
    "print('fora da função', x)"
   ]
  },
  {
   "cell_type": "code",
   "execution_count": 22,
   "metadata": {},
   "outputs": [
    {
     "name": "stdout",
     "output_type": "stream",
     "text": [
      "fora da função 10\n",
      "dentro da função 11\n",
      "fora da função 11\n"
     ]
    }
   ],
   "source": [
    "x = 10 #x é uma variável global\n",
    "#podemos acessar x força de uma função também\n",
    "print('fora da função', x)\n",
    "\n",
    "def minhaFunção():\n",
    "    '''\n",
    "    Aqui posso escrever a descrição do que foi feito na função ou sla\n",
    "    '''\n",
    "    global x\n",
    "    x = x + 1\n",
    "    print(\"dentro da função\", x)\n",
    "minhaFunção()\n",
    "print('fora da função', x)"
   ]
  },
  {
   "cell_type": "code",
   "execution_count": null,
   "metadata": {},
   "outputs": [],
   "source": [
    "#DICAS\n",
    "#se uma função ou procedimento tiver uma variável local com o mesmo nome de uma variável global, a variavel local oculta a global\n",
    "\n",
    "#Para acessar ambas, uma delas deve seu identificador alterado\n",
    "\n",
    "#em geral, é uma boa prática evitar o uo excessivo de variáveis globais e, sempre que possível, optar\n",
    "#por passar variáveis como argumentos para funções ou retornar valores delas"
   ]
  }
 ],
 "metadata": {
  "kernelspec": {
   "display_name": "Python 3",
   "language": "python",
   "name": "python3"
  },
  "language_info": {
   "codemirror_mode": {
    "name": "ipython",
    "version": 3
   },
   "file_extension": ".py",
   "mimetype": "text/x-python",
   "name": "python",
   "nbconvert_exporter": "python",
   "pygments_lexer": "ipython3",
   "version": "3.12.3"
  }
 },
 "nbformat": 4,
 "nbformat_minor": 2
}
