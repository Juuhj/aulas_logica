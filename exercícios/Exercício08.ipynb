{
 "cells": [
  {
   "cell_type": "markdown",
   "metadata": {},
   "source": [
    "1 - Crie uma lista com os números de 1 a 10 e imprima cada número"
   ]
  },
  {
   "cell_type": "code",
   "execution_count": 3,
   "metadata": {},
   "outputs": [
    {
     "name": "stdout",
     "output_type": "stream",
     "text": [
      "1\n",
      "2\n",
      "3\n",
      "4\n",
      "5\n",
      "6\n",
      "7\n",
      "8\n",
      "9\n",
      "10\n"
     ]
    }
   ],
   "source": [
    "listaNumeros = [1, 2, 3, 4, 5, 6, 7, 8, 9, 10]\n",
    "for numero in listaNumeros :\n",
    "    print(numero)"
   ]
  },
  {
   "cell_type": "markdown",
   "metadata": {},
   "source": [
    "2 - Crie uma lista com os nomes de  três amigos e imprima cada nome"
   ]
  },
  {
   "cell_type": "code",
   "execution_count": 6,
   "metadata": {},
   "outputs": [
    {
     "name": "stdout",
     "output_type": "stream",
     "text": [
      "Natalie\n",
      "Nathalia\n",
      "Sla\n"
     ]
    }
   ],
   "source": [
    "listaAmigos = [\"Natalie\", \"Nathalia\", \"Sla\"]\n",
    "for nomes in listaAmigos :\n",
    "    print(nomes)"
   ]
  },
  {
   "cell_type": "markdown",
   "metadata": {},
   "source": [
    "3 - Crie uma lista com os meses do anos e imprima apenas os meses que começam com \"J\""
   ]
  },
  {
   "cell_type": "code",
   "execution_count": 23,
   "metadata": {},
   "outputs": [
    {
     "name": "stdout",
     "output_type": "stream",
     "text": [
      "janeiro\n",
      "junho\n",
      "julho\n"
     ]
    }
   ],
   "source": [
    "listaMeses = [\"janeiro\", \"fevereiro\", \"março\", \"abril\", \"maio\", \"junho\", \"julho\", \"agosto\", \"setembro\", \"outubro\", \"novembro\", \"dezembro\"]\n",
    "for meses in listaMeses :\n",
    "    #se a primeira letra for j\n",
    "    if meses[0] == \"j\" :\n",
    "        print(meses)\n"
   ]
  },
  {
   "cell_type": "markdown",
   "metadata": {},
   "source": [
    "4 - Crie uma lista com as palavras \"gato\", \"cachorro\", \"pássaro\" e \"peixe\", e imprima cada palavra\n",
    "em maiúsculas."
   ]
  },
  {
   "cell_type": "code",
   "execution_count": 24,
   "metadata": {},
   "outputs": [
    {
     "name": "stdout",
     "output_type": "stream",
     "text": [
      "GATO\n",
      "CACHORRO\n",
      "PÁSSARO\n",
      "PEIXE\n"
     ]
    }
   ],
   "source": [
    "listaAnimais = [\"gato\", \"cachorro\", \"pássaro\", \"peixe\"]\n",
    "for i in listaAnimais :\n",
    "    print(i.upper())"
   ]
  },
  {
   "cell_type": "markdown",
   "metadata": {},
   "source": [
    "5 - Crie uma lista com 5 números aleatórios e exiba o nr e seu dobro."
   ]
  },
  {
   "cell_type": "code",
   "execution_count": 54,
   "metadata": {},
   "outputs": [
    {
     "name": "stdout",
     "output_type": "stream",
     "text": [
      "o numero 12 tem seu dobro 24\n",
      "o numero 27 tem seu dobro 54\n",
      "o numero 37 tem seu dobro 74\n",
      "o numero 47 tem seu dobro 94\n",
      "o numero 57 tem seu dobro 114\n"
     ]
    }
   ],
   "source": [
    "numeros = [12, 27, 37, 47, 57]\n",
    "for numero in numeros:\n",
    "    print(f\"o numero {numero} tem seu dobro {numero * 2}\")\n",
    "    \n",
    "\n",
    "\n",
    "\n",
    "\n",
    "\n"
   ]
  },
  {
   "cell_type": "markdown",
   "metadata": {},
   "source": [
    "6 - Crie uma lista com valores numéricos e encontre o maior e o menor elemento dessa lista."
   ]
  },
  {
   "cell_type": "code",
   "execution_count": 47,
   "metadata": {},
   "outputs": [
    {
     "name": "stdout",
     "output_type": "stream",
     "text": [
      "12 é o menor número e 57 é o maior número\n"
     ]
    }
   ],
   "source": [
    "nmr = [12, 27, 37, 47, 57]\n",
    "menor = nmr[0]\n",
    "maior = nmr[4]\n",
    "for i in nmr :\n",
    "    if i > maior :\n",
    "        maior == i\n",
    "    if i < menor :\n",
    "        menor == i\n",
    "print(f\"{menor} é o menor número e {maior} é o maior número\")\n"
   ]
  },
  {
   "cell_type": "markdown",
   "metadata": {},
   "source": [
    "7 - Receba uma palavra do usuário e calcule quantas vogais há nesta palavra."
   ]
  },
  {
   "cell_type": "code",
   "execution_count": 49,
   "metadata": {},
   "outputs": [
    {
     "name": "stdout",
     "output_type": "stream",
     "text": [
      "a palavra agosto tem 3 vogais\n"
     ]
    }
   ],
   "source": [
    "vogais = ['a', 'e', 'i', 'o', 'u']\n",
    "qtde_vogais = 0\n",
    "palavra = input(\"insira aqui sua palavra\")\n",
    "for letra in palavra:\n",
    "    if letra in vogais:\n",
    "        qtde_vogais += 1\n",
    "print(f\"a palavra {palavra} tem {qtde_vogais} vogais\")\n",
    "\n"
   ]
  },
  {
   "cell_type": "markdown",
   "metadata": {},
   "source": [
    "8 - Nessa string ‘Gol;Corsa;Palio;Monza;Fusca;’, faça a separação desses itens para uma lista e\n",
    "exiba o item e a posição que ele está"
   ]
  },
  {
   "cell_type": "code",
   "execution_count": 40,
   "metadata": {},
   "outputs": [
    {
     "name": "stdout",
     "output_type": "stream",
     "text": [
      "1º Gol\n",
      "2º  Corsa\n",
      "3º  Palio\n",
      "4º  Monza\n",
      "5º  Fusca\n"
     ]
    }
   ],
   "source": [
    "carros = 'Gol; Corsa; Palio; Monza; Fusca'\n",
    "listaCarros = carros.split(';')\n",
    "for pos, carro in enumerate(listaCarros):\n",
    "    print(f\"{pos+1}º {carro}\")"
   ]
  },
  {
   "cell_type": "markdown",
   "metadata": {},
   "source": [
    "9 - Faça um programa que vai ler valores numéricos e guardá-los em uma lista, caso o\n",
    "usuário digite 0, o programa mostre:\n",
    "\n",
    "A – Quantos números foram digitados.\n",
    "\n",
    "B – Mostre a lista em ordem crescente.\n",
    "\n",
    "C – Mostre a lista em ordem decrescente.\n",
    "\n",
    "D – O maior valor\n",
    "\n",
    "E – O menor valor\n",
    "\n",
    "D – Se o valor 5 foi digitado na lista ou não."
   ]
  },
  {
   "cell_type": "code",
   "execution_count": 55,
   "metadata": {},
   "outputs": [
    {
     "name": "stdout",
     "output_type": "stream",
     "text": [
      "50\n"
     ]
    }
   ],
   "source": [
    "\n",
    "\n"
   ]
  },
  {
   "cell_type": "code",
   "execution_count": null,
   "metadata": {},
   "outputs": [],
   "source": [
    "nmr = [12, 27, 37, 47, 57]\n",
    "menor = nmr[0]\n",
    "maior = nmr[4]\n",
    "for i in nmr :\n",
    "    if i > maior :\n",
    "        maior == i\n",
    "    if i < menor :\n",
    "        menor == i\n",
    "print(f\"{menor} é o menor número e {maior} é o maior número\")"
   ]
  },
  {
   "cell_type": "markdown",
   "metadata": {},
   "source": [
    "10 - Faça um programa que peça o nome de 6 pessoas e pergunte o sexo delas e\n",
    "armazene em 2 listas, uma de homem caso coloque o sexo ‘M’ e outra de mulher caso\n",
    "coloque o sexo ‘F’, no final exiba a lista de homens e mulheres"
   ]
  },
  {
   "cell_type": "code",
   "execution_count": null,
   "metadata": {},
   "outputs": [],
   "source": []
  }
 ],
 "metadata": {
  "kernelspec": {
   "display_name": "Python 3",
   "language": "python",
   "name": "python3"
  },
  "language_info": {
   "codemirror_mode": {
    "name": "ipython",
    "version": 3
   },
   "file_extension": ".py",
   "mimetype": "text/x-python",
   "name": "python",
   "nbconvert_exporter": "python",
   "pygments_lexer": "ipython3",
   "version": "3.12.3"
  }
 },
 "nbformat": 4,
 "nbformat_minor": 2
}
