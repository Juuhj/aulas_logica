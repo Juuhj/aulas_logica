{
 "cells": [
  {
   "cell_type": "markdown",
   "metadata": {},
   "source": [
    "1 - Faça um Programa que mostre a mensagem \"Seja Bem-Vindo ao SESI 😎\" na tela."
   ]
  },
  {
   "cell_type": "code",
   "execution_count": 1,
   "metadata": {},
   "outputs": [
    {
     "name": "stdout",
     "output_type": "stream",
     "text": [
      "Seja Bem-Vindo ao SESI😎\n"
     ]
    }
   ],
   "source": [
    "print(\"Seja Bem-Vindo ao SESI😎\")"
   ]
  },
  {
   "cell_type": "markdown",
   "metadata": {},
   "source": [
    "2 - Faça um Programa que peça um número e então mostre a mensagem “O número\n",
    "informado foi [número]”."
   ]
  },
  {
   "cell_type": "code",
   "execution_count": 2,
   "metadata": {},
   "outputs": [
    {
     "name": "stdout",
     "output_type": "stream",
     "text": [
      "o numero informado foi 5.0\n"
     ]
    }
   ],
   "source": [
    "nmr = float(input(\"insira aqui o número\"))\n",
    "print(f\"o numero informado foi {nmr}\")"
   ]
  },
  {
   "cell_type": "markdown",
   "metadata": {},
   "source": [
    "3 - Faça um programa que receba 2 números inteiros e exiba a divisão entre eles"
   ]
  },
  {
   "cell_type": "code",
   "execution_count": 7,
   "metadata": {},
   "outputs": [
    {
     "name": "stdout",
     "output_type": "stream",
     "text": [
      "20/2 = 10.0\n"
     ]
    }
   ],
   "source": [
    "nmr1 = int(input(\"insira aqui o primeiro numero\"))\n",
    "nmr2 = int(input(\"insira aquio segundo numero\"))\n",
    "print(f\"{nmr1}/{nmr2} = {nmr1/nmr2}\")"
   ]
  },
  {
   "cell_type": "markdown",
   "metadata": {},
   "source": [
    "4 - Faça um Programa que pergunte quanto você ganha por hora e o número de horas\n",
    "trabalhadas no mês. Calcule e mostre o total do seu salário no referido mês."
   ]
  },
  {
   "cell_type": "code",
   "execution_count": 10,
   "metadata": {},
   "outputs": [
    {
     "name": "stdout",
     "output_type": "stream",
     "text": [
      "você recebe 4800.0 ao final do mês\n"
     ]
    }
   ],
   "source": [
    "ganho_hora = float(input(\"digite aqui quanto você ganha por hora\"))\n",
    "horas_trabalhadas = int(input(\"digite aqui quantas horas trabalha por mês\"))\n",
    "print(f\"você recebe {ganho_hora * horas_trabalhadas} ao final do mês\")"
   ]
  },
  {
   "cell_type": "markdown",
   "metadata": {},
   "source": [
    "5 - Faça um Programa que verifique se uma letra digitada é \"F\" ou \"M\". Conforme a letra\n",
    "escrever: F - Feminino, M - Masculino, Sexo Inválido."
   ]
  },
  {
   "cell_type": "code",
   "execution_count": 29,
   "metadata": {},
   "outputs": [
    {
     "name": "stdout",
     "output_type": "stream",
     "text": [
      "sexo feminino\n",
      "sexo masculino\n",
      "sexo feminino\n",
      "sexo masculino\n",
      "sexo feminino\n"
     ]
    }
   ],
   "source": [
    "for x in range (5):\n",
    "    sexo = input(\"digite aqui o seu sexo: [F/M]\")\n",
    "    if sexo == \"F\":\n",
    "        print(\"sexo feminino\")\n",
    "    elif sexo == \"M\":\n",
    "        print(\"sexo masculino\")\n",
    "    else:\n",
    "        print(\"sexo inválido\")\n"
   ]
  },
  {
   "cell_type": "markdown",
   "metadata": {},
   "source": [
    "6 - Tendo como dado de entrada a altura (h) de uma pessoa e o sexo, construa um algoritmo\n",
    "que calcule seu peso ideal, utilizando as seguintes fórmulas:\n",
    "Para homens: (72.7 * altura) – 58 Para mulheres: (62.1 * altura) - 44.7"
   ]
  },
  {
   "cell_type": "code",
   "execution_count": 37,
   "metadata": {},
   "outputs": [
    {
     "name": "stdout",
     "output_type": "stream",
     "text": [
      "seu peso ideal é 53.42\n"
     ]
    }
   ],
   "source": [
    "sexo = input(\"digite aqui o seu sexo: [F/M]\")\n",
    "altura = float(input(\"insira aqui sua altura\"))\n",
    "peso_m = (72.7 * altura) - 58\n",
    "peso_f = (62.1 * altura) - 44.7\n",
    "\n",
    "if sexo == \"m\":\n",
    "    print(f\"seu peso ideal é {peso_m:.2f}\")\n",
    "if sexo == \"f\":\n",
    "    print(f\"seu peso ideal é {peso_f:.2f}\")\n"
   ]
  },
  {
   "cell_type": "markdown",
   "metadata": {},
   "source": [
    "7 - Faça um Programa que pergunte quanto você ganha por hora e o número de horas\n",
    "trabalhadas no mês.\n",
    "Calcule e mostre o total do seu salário no referido mês, sabendo-se que são descontados\n",
    "11% para o Imposto de Renda, 8% para o INSS e 5% para o sindicato, faça um programa\n",
    "que nos dê: salário bruto. quanto pagou ao INSS. quanto pagou ao sindicato. o salário\n",
    "líquido. calcule os descontos e o salário líquido, conforme a tabela abaixo:\n",
    "* .+ Salário Bruto : R$\n",
    "* .- IR (11%) : R$\n",
    "* .- INSS (8%) : R$\n",
    "* .- Sindicato ( 5%) : R$\n",
    "* .= Salário Liquido : R$\n",
    "Obs.: Salário Bruto - Descontos = Salário Líquido."
   ]
  },
  {
   "cell_type": "code",
   "execution_count": 40,
   "metadata": {},
   "outputs": [
    {
     "name": "stdout",
     "output_type": "stream",
     "text": [
      "salário bruto : R$5000.0\n",
      "IR (11%) : r$550.0\n",
      "INSS (8%) : R$400.0\n",
      "Sindicato ( 5%) : R$250.0\n",
      "Salário Liquido : R$3800.0\n"
     ]
    }
   ],
   "source": [
    "ganho_hora = float(input(\"digite aqui quanto você ganha por hora\"))\n",
    "horas_trabalhadas = int(input(\"digite aqui quantas horas trabalha por mês\"))\n",
    "salario_bruto = ganho_hora * horas_trabalhadas\n",
    "IR = (salario_bruto/100) * 11\n",
    "INSS = (salario_bruto/100) * 8\n",
    "Sindicato = (salario_bruto/100) * 5\n",
    "Salario_liquido = salario_bruto - IR - INSS - Sindicato\n",
    "print(f\"salário bruto : R${salario_bruto}\")\n",
    "print(f\"IR (11%) : r${IR}\")\n",
    "print(f\"INSS (8%) : R${INSS}\")\n",
    "print(f\"Sindicato ( 5%) : R${Sindicato}\")\n",
    "print(f\"Salário Liquido : R${Salario_liquido}\")"
   ]
  },
  {
   "cell_type": "markdown",
   "metadata": {},
   "source": [
    "8 - Faça uma função que peça um valor e mostre na tela se o valor é positivo ou negativo."
   ]
  },
  {
   "cell_type": "code",
   "execution_count": 43,
   "metadata": {},
   "outputs": [
    {
     "name": "stdout",
     "output_type": "stream",
     "text": [
      "o numero 15.0 é positivo\n"
     ]
    }
   ],
   "source": [
    "nmr = float(input(\"insira aqui algum numero\"))\n",
    "if nmr > 0 :\n",
    "    print(f\"o numero {nmr} é positivo\")\n",
    "if nmr < 0 :\n",
    "    print(f\"o numero {nmr} é negativo\")"
   ]
  },
  {
   "cell_type": "markdown",
   "metadata": {},
   "source": [
    "9 - Faça uma função que imprima na tela apenas os números ímpares entre 1 e 50."
   ]
  },
  {
   "cell_type": "code",
   "execution_count": 44,
   "metadata": {},
   "outputs": [
    {
     "name": "stdout",
     "output_type": "stream",
     "text": [
      "1\n",
      "3\n",
      "5\n",
      "7\n",
      "9\n",
      "11\n",
      "13\n",
      "15\n",
      "17\n",
      "19\n",
      "21\n",
      "23\n",
      "25\n",
      "27\n",
      "29\n",
      "31\n",
      "33\n",
      "35\n",
      "37\n",
      "39\n",
      "41\n",
      "43\n",
      "45\n",
      "47\n",
      "49\n"
     ]
    }
   ],
   "source": [
    "for nmr in range(1,50,2):\n",
    "    print(nmr)\n",
    "#não se se era o que queriam mas foi a mais fácil e a que pensei logo de cara "
   ]
  },
  {
   "cell_type": "markdown",
   "metadata": {},
   "source": [
    "10 - Faça uma função que receba dois números inteiros e gere os números inteiros que estão\n",
    "no intervalo compreendido por eles."
   ]
  },
  {
   "cell_type": "code",
   "execution_count": 55,
   "metadata": {},
   "outputs": [
    {
     "name": "stdout",
     "output_type": "stream",
     "text": [
      "6\n",
      "7\n",
      "8\n"
     ]
    }
   ],
   "source": [
    "nmr1 = int(input(\"digite aqui o primeiro numero\"))\n",
    "nmr2 = int(input(\"digite aqui o segundo numero\"))\n",
    "for x in range(nmr1+1, nmr2):\n",
    "    print(x)"
   ]
  },
  {
   "cell_type": "markdown",
   "metadata": {},
   "source": [
    "11 - Faça uma função que peça um número positivo e em seguida mostre este número invertido.\n",
    "Exemplo: 12376489 => 98467321"
   ]
  },
  {
   "cell_type": "markdown",
   "metadata": {},
   "source": [
    "12 - Faça um Programa que leia um vetor A com 5 números inteiros, calcule e mostre a soma\n",
    "dos quadrados dos elementos do vetor."
   ]
  },
  {
   "cell_type": "code",
   "execution_count": 56,
   "metadata": {},
   "outputs": [
    {
     "name": "stdout",
     "output_type": "stream",
     "text": [
      "55\n"
     ]
    }
   ],
   "source": [
    "lista_nmr = [1,2,3,4,5]\n",
    "soma = 0\n",
    "for nmr in lista_nmr:\n",
    "    soma += (nmr ** 2)\n",
    "print(soma)"
   ]
  },
  {
   "cell_type": "markdown",
   "metadata": {},
   "source": [
    "13 - Faça um Programa que leia 8 números inteiros e armazene-os num vetor. Armazene os\n",
    "números pares no vetor PAR e os números IMPARES no vetor impar. Imprima os três\n",
    "vetores."
   ]
  },
  {
   "cell_type": "code",
   "execution_count": 57,
   "metadata": {},
   "outputs": [
    {
     "name": "stdout",
     "output_type": "stream",
     "text": [
      "[1, 2, 3, 4, 5, 6, 7, 8]\n",
      "[2, 4, 6, 8]\n",
      "[1, 3, 5, 7]\n"
     ]
    }
   ],
   "source": [
    "pares = []\n",
    "impares = []\n",
    "numeros = []\n",
    "\n",
    "for numero in range(8):\n",
    "    nmr = int(input(\"digite aqui o número\"))\n",
    "    numeros.append(nmr)\n",
    "    if nmr % 2 == 0:\n",
    "        pares.append(nmr)\n",
    "    else:\n",
    "        impares.append(nmr)\n",
    "\n",
    "print(numeros)\n",
    "print(pares)\n",
    "print(impares)"
   ]
  },
  {
   "cell_type": "markdown",
   "metadata": {},
   "source": [
    "14 - Numa eleição existem três candidatos. Faça um programa que peça o número total de\n",
    "eleitores. Peça para cada eleitor votar e ao final mostrar o número de votos de cada\n",
    "candidato."
   ]
  },
  {
   "cell_type": "code",
   "execution_count": null,
   "metadata": {},
   "outputs": [],
   "source": [
    "candidato1 = []\n",
    "candidato2 = []\n",
    "candidato3 = []\n",
    "\n"
   ]
  },
  {
   "cell_type": "markdown",
   "metadata": {},
   "source": [
    "15 - Faça um Programa que em uma função receba 4 notas bimestrais e mostre a média."
   ]
  },
  {
   "cell_type": "code",
   "execution_count": 78,
   "metadata": {},
   "outputs": [
    {
     "name": "stdout",
     "output_type": "stream",
     "text": [
      "7.5\n"
     ]
    }
   ],
   "source": [
    "soma = 0\n",
    "for x in range(4):\n",
    "    nota_bimestral = float(input(\"insira aqui a sua nota\"))\n",
    "    soma = nota_bimestral + soma\n",
    "    media = soma/4\n",
    "print(media)"
   ]
  },
  {
   "cell_type": "markdown",
   "metadata": {},
   "source": [
    "16 - Faça um Programa que em uma função receba uma medida em metros e converta retorne\n",
    "o valor convertido para centímetros."
   ]
  },
  {
   "cell_type": "code",
   "execution_count": 83,
   "metadata": {},
   "outputs": [
    {
     "name": "stdout",
     "output_type": "stream",
     "text": [
      "156.0\n"
     ]
    }
   ],
   "source": [
    "cm = 100\n",
    "def Conversao():\n",
    "    global cm\n",
    "    medida_m = float(input(\"digite aqui a medida em metros\"))\n",
    "    cnv = medida_m * cm\n",
    "    print(cnv)\n",
    "Conversao()\n"
   ]
  },
  {
   "cell_type": "markdown",
   "metadata": {},
   "source": [
    "17 - Faça um programa que receba a temperatura média de cada mês do ano e armazene-as\n",
    "em uma lista. Após isto, calcule a média anual das temperaturas e mostre todas as\n",
    "temperaturas acima da média anual, e em que mês elas ocorreram (mostrar o mês por\n",
    "extenso: 1 – Janeiro, 2 – Fevereiro, . . . )."
   ]
  },
  {
   "cell_type": "code",
   "execution_count": null,
   "metadata": {},
   "outputs": [],
   "source": [
    "meses = []\n",
    "for meses in range(12):\n",
    "    mes = input(\"digite aqui a temperatura do mês\")"
   ]
  },
  {
   "cell_type": "markdown",
   "metadata": {},
   "source": [
    "18 - Faça um programa que receba o valor de uma dívida e mostre uma tabela com os seguintes\n",
    "dados: valor da dívida, valor dos juros, quantidade de parcelas e valor da parcela. Os juros\n",
    "e a quantidade de parcelas seguem a tabela abaixo:"
   ]
  },
  {
   "cell_type": "code",
   "execution_count": 17,
   "metadata": {},
   "outputs": [
    {
     "name": "stdout",
     "output_type": "stream",
     "text": [
      "        divida de R$1500.0\n",
      "Parcelas:           Juros:            ValorParcela:\n",
      "   1                  0.0                1500.0\n",
      "   3                 150.0               1650.0\n",
      "   6                 225.0               1725.0\n",
      "   9                 300.0               1800.0\n",
      "   12                375.0               1875.0\n"
     ]
    }
   ],
   "source": [
    "valor_divida = float(input(\"insira aqui o valor da divida\"))\n",
    "print(f\"        divida de R${valor_divida}\")\n",
    "print(f\"Parcelas:           Juros:            ValorParcela:\")\n",
    "print(f\"   1                  {valor_divida*0}                {valor_divida}\")\n",
    "print(f\"   3                 {valor_divida*0.10}               {valor_divida+(valor_divida*0.10)}\")\n",
    "print(f\"   6                 {valor_divida*0.15}               {valor_divida+(valor_divida*0.15)}\")\n",
    "print(f\"   9                 {valor_divida*0.20}               {valor_divida+(valor_divida*0.20)}\")\n",
    "print(f\"   12                {valor_divida*0.25}               {valor_divida+(valor_divida*0.25)}\")"
   ]
  }
 ],
 "metadata": {
  "kernelspec": {
   "display_name": "Python 3",
   "language": "python",
   "name": "python3"
  },
  "language_info": {
   "codemirror_mode": {
    "name": "ipython",
    "version": 3
   },
   "file_extension": ".py",
   "mimetype": "text/x-python",
   "name": "python",
   "nbconvert_exporter": "python",
   "pygments_lexer": "ipython3",
   "version": "3.12.3"
  }
 },
 "nbformat": 4,
 "nbformat_minor": 2
}
