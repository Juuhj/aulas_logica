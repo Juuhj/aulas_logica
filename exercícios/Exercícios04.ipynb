{
 "cells": [
  {
   "cell_type": "markdown",
   "metadata": {},
   "source": [
    "1 - Peça o salário do funcionário e calcule o valor do IRPF e INSS do funcionário e quanto ele irá\n",
    "receber no final do mês, considerando a seguinte tabela:"
   ]
  },
  {
   "cell_type": "code",
   "execution_count": 5,
   "metadata": {},
   "outputs": [
    {
     "name": "stdout",
     "output_type": "stream",
     "text": [
      "225.0\n",
      "ele vai receber 2087.5 no fim do mes, tendo tido um desconto de 225.0 do INSS e 187.5 do IRPF\n"
     ]
    }
   ],
   "source": [
    "salario = float(input(\"digite aqui o salario\"))\n",
    "if salario <= 1412.00 :\n",
    "    soma = (salario / 100 * 7.5)\n",
    "    INSS = soma \n",
    "elif salario > 1412.00 and salario <= 2666.68 :\n",
    "    soma = (salario / 100 * 9)\n",
    "    INSS = soma\n",
    "elif salario > 2666.68 and salario <= 4000.03 :\n",
    "    soma = (salario / 100 * 12)\n",
    "    INSS = soma\n",
    "elif salario > 4000.03 and salario <= 7786.02 :\n",
    "    soma = (salario / 100 * 14)\n",
    "    INSS = soma\n",
    "else :\n",
    "    soma = (salario - 908.85)\n",
    "    INSS = soma\n",
    "print (INSS)\n",
    "\n",
    "if salario <= 2259.20 :\n",
    "    soma = (salario / 100 * 0)\n",
    "    IRPF = soma\n",
    "elif salario > 2259.20 and salario <= 2826.65 :\n",
    "    soma = (salario / 100 * 7.5)\n",
    "    IRPF = soma\n",
    "elif salario > 2826.65 and salario <= 3751.05 :\n",
    "    soma = (salario / 100 * 15)\n",
    "    IRPF = soma\n",
    "elif salario > 3751.05 and salario <= 4664.68 :\n",
    "    soma = (salario / 100 * 22.5)\n",
    "    IRPF = soma\n",
    "else :\n",
    "    soma = (salario / 100 * 27.5)\n",
    "    IRPF = soma\n",
    "\n",
    "salario = salario - (IRPF + INSS)\n",
    "print(f'ele vai receber {salario} no fim do mes, tendo tido um desconto de {INSS} do INSS e {IRPF} do IRPF')"
   ]
  },
  {
   "cell_type": "markdown",
   "metadata": {},
   "source": [
    "2 - Peça o salário do funcionário e calcule o valor do IRPF e INSS do funcionário e quanto ele irá\n",
    "receber no final do mês, considerando as seguintes tabelas e fórmulas:\n",
    "- Para calcular o INSS é calculado sobre o valor bruto do salário\n",
    "- Para calcular o IRPF é aplicado a tabela abaixo sobre o valor bruto menos o valor do INSS"
   ]
  },
  {
   "cell_type": "code",
   "execution_count": 4,
   "metadata": {},
   "outputs": [
    {
     "name": "stdout",
     "output_type": "stream",
     "text": [
      "225.0\n",
      "2275.0\n",
      "ele vai receber 2104.375 no fim do mes, tendo tido um desconto de 225.0 do INSS e 170.625 do IRPF\n"
     ]
    }
   ],
   "source": [
    "salario = float(input(\"digite aqui o salario\"))\n",
    "if salario <= 1412.00 :\n",
    "    soma = (salario / 100 * 7.5)\n",
    "    INSS = soma \n",
    "elif salario > 1412.00 and salario <= 2666.68 :\n",
    "    soma = (salario / 100 * 9)\n",
    "    INSS = soma\n",
    "elif salario > 2666.68 and salario <= 4000.03 :\n",
    "    soma = (salario / 100 * 12)\n",
    "    INSS = soma\n",
    "elif salario > 4000.03 and salario <= 7786.02 :\n",
    "    soma = (salario / 100 * 14)\n",
    "    INSS = soma\n",
    "else :\n",
    "    soma = (salario - 908.85)\n",
    "    INSS = soma\n",
    "print (INSS)\n",
    "salario = salario - INSS\n",
    "print(salario)\n",
    "\n",
    "if salario <= 2259.20 :\n",
    "    soma = (salario / 100 * 0)\n",
    "    IRPF = soma\n",
    "elif salario > 2259.20 and salario <= 2826.65 :\n",
    "    soma = (salario / 100 * 7.5)\n",
    "    IRPF = soma\n",
    "elif salario > 2826.65 and salario <= 3751.05 :\n",
    "    soma = (salario / 100 * 15)\n",
    "    IRPF = soma\n",
    "elif salario > 3751.05 and salario <= 4664.68 :\n",
    "    soma = (salario / 100 * 22.5)\n",
    "    IRPF = soma\n",
    "else :\n",
    "    soma = (salario / 100 * 27.5)\n",
    "    IRPF = soma\n",
    "\n",
    "salario = salario - IRPF\n",
    "print(f'ele vai receber {salario} no fim do mes, tendo tido um desconto de {INSS} do INSS e {IRPF} do IRPF')"
   ]
  },
  {
   "cell_type": "code",
   "execution_count": null,
   "metadata": {},
   "outputs": [],
   "source": []
  }
 ],
 "metadata": {
  "kernelspec": {
   "display_name": "Python 3",
   "language": "python",
   "name": "python3"
  },
  "language_info": {
   "codemirror_mode": {
    "name": "ipython",
    "version": 3
   },
   "file_extension": ".py",
   "mimetype": "text/x-python",
   "name": "python",
   "nbconvert_exporter": "python",
   "pygments_lexer": "ipython3",
   "version": "3.12.2"
  }
 },
 "nbformat": 4,
 "nbformat_minor": 2
}
