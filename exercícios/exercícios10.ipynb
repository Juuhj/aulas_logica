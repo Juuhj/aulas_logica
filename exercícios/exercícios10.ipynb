{
 "cells": [
  {
   "cell_type": "markdown",
   "metadata": {},
   "source": [
    "1 - Escreva uma função que utilize uma variável global para contar o número de vezes que foi chmada. A função deve retornar o número atual de chamadas."
   ]
  },
  {
   "cell_type": "code",
   "execution_count": null,
   "metadata": {},
   "outputs": [
    {
     "data": {
      "text/plain": [
       "3"
      ]
     },
     "execution_count": 35,
     "metadata": {},
     "output_type": "execute_result"
    }
   ],
   "source": [
    "x = 0\n",
    "\n",
    "def função():\n",
    "    global x \n",
    "    x += 1\n",
    "    return(x)  \n",
    "função() \n",
    "função()\n",
    "função()"
   ]
  },
  {
   "cell_type": "code",
   "execution_count": 5,
   "metadata": {},
   "outputs": [
    {
     "name": "stdout",
     "output_type": "stream",
     "text": [
      "5\n"
     ]
    },
    {
     "data": {
      "text/plain": [
       "6"
      ]
     },
     "execution_count": 5,
     "metadata": {},
     "output_type": "execute_result"
    }
   ],
   "source": [
    "#correção\n",
    "x = 4\n",
    "\n",
    "def função():\n",
    "    global x \n",
    "    x += 1\n",
    "    return(x)  \n",
    "\n",
    "def diminuir():\n",
    "    global x\n",
    "    x = x - 1\n",
    "    print(x)\n",
    "\n",
    "função()\n",
    "função()\n",
    "diminuir()\n",
    "função()"
   ]
  },
  {
   "cell_type": "markdown",
   "metadata": {},
   "source": [
    "2 - Crie um algoritmo que receba em variável global o valor atual do dólar e do euro, crie uma\n",
    "função que receba o valor a ser convertido e imprima a conversão em dólar e em euro"
   ]
  },
  {
   "cell_type": "code",
   "execution_count": 88,
   "metadata": {},
   "outputs": [
    {
     "name": "stdout",
     "output_type": "stream",
     "text": [
      "5.00 é igual a 0.97 se convertido em dolares e 0.92 se convertido em euros\n",
      "None\n"
     ]
    }
   ],
   "source": [
    "dolar = 5.13\n",
    "euro = 5.45\n",
    "def conversao():\n",
    "    global dolar\n",
    "    global euro\n",
    "    real = float(input(\"insira aqui o valor a ser convertido\"))\n",
    "    print(f\"{real:.2f} é igual a {real / dolar:.2f} se convertido em dolares e {real/euro:.2f} se convertido em euros\")\n",
    "\n",
    "print(conversao())\n",
    "    #tem algo de errado que não consegui identificar "
   ]
  },
  {
   "cell_type": "code",
   "execution_count": null,
   "metadata": {},
   "outputs": [],
   "source": [
    "#fiuie milhares de ano na dois procurando e refazendo porque simplesmente não percebi que usei uma virgula no lugar do ponto 🤡 \n",
    "#próxima aula eu termino"
   ]
  },
  {
   "cell_type": "markdown",
   "metadata": {},
   "source": [
    "3 - Escreva uma função que recebe um nome e o adicione a uma lista de nomes global. Em seguida, escreva outra função que remova um elemento dessa lista global recebendo o nome."
   ]
  },
  {
   "cell_type": "code",
   "execution_count": 6,
   "metadata": {},
   "outputs": [
    {
     "name": "stdout",
     "output_type": "stream",
     "text": [
      "['Marcos']\n",
      "['Marcos', 'Douglas']\n",
      "['Douglas']\n"
     ]
    }
   ],
   "source": [
    "#CORREÇÃO\n",
    "listaNomes = []\n",
    "\n",
    "def Adicionar(nome):\n",
    "    listaNomes.append(nome)\n",
    "    print(listaNomes)\n",
    "\n",
    "def Remover(nome):\n",
    "    listaNomes.remove(nome)\n",
    "    print(listaNomes)\n",
    "\n",
    "Adicionar(\"Marcos\")\n",
    "Adicionar(\"Douglas\")\n",
    "Remover(\"Marcos\")"
   ]
  },
  {
   "cell_type": "markdown",
   "metadata": {},
   "source": [
    "4 - Crie um caixa eletrônico: Crie uma variável global para armazenar o saldo, crie função para depositar e sacar, recebendo o valor como parâmetro, crie outra função para colsutar o saldo. Crie em menu interativo com while para navegar entre as funções:\n"
   ]
  },
  {
   "cell_type": "markdown",
   "metadata": {},
   "source": [
    "* Depositar\n",
    "* Sacar\n",
    "* Consultar Saldo\n",
    "* Parar programa"
   ]
  },
  {
   "cell_type": "code",
   "execution_count": 16,
   "metadata": {},
   "outputs": [
    {
     "name": "stdout",
     "output_type": "stream",
     "text": [
      "menu\n",
      "[1]depositar\n",
      "[2] Sacar\n",
      "[3]Consultar\n",
      "[4]sair\n",
      "Seu saldo Rs 111.00\n"
     ]
    }
   ],
   "source": [
    "saldo = 0\n",
    "\n",
    "def Depositar(valor):\n",
    "    global saldo\n",
    "    saldo = saldo + valor\n",
    "\n",
    "def Sacar(valor):\n",
    "    global saldo\n",
    "    saldo = saldo - valor\n",
    "\n",
    "def ConsultarSaldo():\n",
    "    print(f\"Seu saldo Rs {saldo:.2f}\")\n",
    "\n",
    "print(\"menu\")\n",
    "print(\"[1]depositar\")\n",
    "print(\"[2] Sacar\")\n",
    "print(\"[3]Consultar\")\n",
    "print(\"[4]sair\")\n",
    "while True:\n",
    "    opção = input(\"digite aqui a opção do menu\")\n",
    "    if opção == \"1\":\n",
    "        valor = float(input(\"digite o valor para depositar\"))\n",
    "        Depositar(valor)\n",
    "    elif opção == \"2\":\n",
    "        valor = float(input(\"digite o valor para sacar:\"))\n",
    "        Sacar(valor)\n",
    "    elif opção == \"3\":\n",
    "        ConsultarSaldo()\n",
    "    else:\n",
    "        break"
   ]
  },
  {
   "cell_type": "markdown",
   "metadata": {},
   "source": [
    "5 - Desenhando um retãngulo. Crie um algoritmo que receba em variável global um caractere especial. Em uma função receba 2 parãmetros altura e largura e desenhe de acordo com a largura, a quantidade de vezes irá repetir o caractere, e de acordo com a altura, o número de linhas que será desenhado. Ex: Caractere +, largura 20 altura 50:"
   ]
  },
  {
   "cell_type": "code",
   "execution_count": 20,
   "metadata": {},
   "outputs": [
    {
     "name": "stdout",
     "output_type": "stream",
     "text": [
      "++++++++++++++++++++\n",
      "++++++++++++++++++++\n",
      "++++++++++++++++++++\n",
      "++++++++++++++++++++\n",
      "++++++++++++++++++++\n"
     ]
    }
   ],
   "source": [
    "caractere = \"+\"\n",
    "def DesenharForma(l, a):\n",
    "    global caractere\n",
    "    for i in range(a):\n",
    "        print(caractere * l)\n",
    "    \n",
    "DesenharForma(20,5)"
   ]
  },
  {
   "cell_type": "markdown",
   "metadata": {},
   "source": [
    "6 - No exercício anterior,inclua uma docstring e os annotations na função para explicar para o usuário, como utiliza-la."
   ]
  },
  {
   "cell_type": "code",
   "execution_count": 3,
   "metadata": {},
   "outputs": [
    {
     "name": "stdout",
     "output_type": "stream",
     "text": [
      "++++++++++++++++++++\n",
      "++++++++++++++++++++\n",
      "++++++++++++++++++++\n",
      "++++++++++++++++++++\n",
      "++++++++++++++++++++\n"
     ]
    }
   ],
   "source": [
    "caractere = \"+\"\n",
    "def DesenharForma(l, a):\n",
    "    global caractere\n",
    "    for i in range(a):\n",
    "        print(caractere * l)\n",
    "    \n",
    "DesenharForma(20,5)"
   ]
  }
 ],
 "metadata": {
  "kernelspec": {
   "display_name": "Python 3",
   "language": "python",
   "name": "python3"
  },
  "language_info": {
   "codemirror_mode": {
    "name": "ipython",
    "version": 3
   },
   "file_extension": ".py",
   "mimetype": "text/x-python",
   "name": "python",
   "nbconvert_exporter": "python",
   "pygments_lexer": "ipython3",
   "version": "3.12.3"
  }
 },
 "nbformat": 4,
 "nbformat_minor": 2
}
