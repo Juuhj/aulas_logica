{
 "cells": [
  {
   "cell_type": "markdown",
   "metadata": {},
   "source": [
    "1 - Crie uma lista de filmes com 7 filmes da sua escolha, e faça as seguintes operações com ela:"
   ]
  },
  {
   "cell_type": "code",
   "execution_count": 32,
   "metadata": {},
   "outputs": [
    {
     "name": "stdout",
     "output_type": "stream",
     "text": [
      "['A espera de um milagre', 'Duna', 'Mary Shelley', '12 anos de escravidão', 'Um sonho de liberdade', 'O código da vinci', 'Psicose']\n",
      "A espera de um milagre\n",
      "Um sonho de liberdade\n",
      "['A espera de um milagre', 'Duna', 'Mary Shelley', '12 anos de escravidão', 'Um sonho de liberdade', 'O código da vinci', 'Toy Story']\n",
      "['A espera de um milagre', 'Duna', 'Mary Shelley', '12 anos de escravidão', 'Um sonho de liberdade', 'O código da vinci', 'Toy Story', 'O chamado']\n",
      "['A espera de um milagre', 'Duna', 'Mary Shelley', '12 anos de escravidão', 'Um sonho de liberdade', 'Fragmentado', 'O código da vinci', 'Toy Story', 'O chamado']\n",
      "['Duna', 'Mary Shelley', '12 anos de escravidão', 'Um sonho de liberdade', 'Fragmentado', 'O código da vinci', 'Toy Story', 'O chamado']\n",
      "['Duna', 'Mary Shelley', '12 anos de escravidão', 'Um sonho de liberdade', 'Fragmentado', 'O código da vinci', 'Toy Story']\n",
      "['Duna', 'Mary Shelley']\n",
      "['Um sonho de liberdade', 'Fragmentado', 'O código da vinci', 'Toy Story']\n",
      "7\n",
      "['Toy Story', 'O código da vinci', 'Fragmentado', 'Um sonho de liberdade', '12 anos de escravidão', 'Mary Shelley', 'Duna']\n"
     ]
    }
   ],
   "source": [
    "lista = [\"A espera de um milagre\",\"Duna\", \"Mary Shelley\", \"12 anos de escravidão\", \"Um sonho de liberdade\", \"O código da vinci\", \"Psicose\"]\n",
    "print(lista)\n",
    "\n",
    "#Exiba apenas o primeiro o filme da lista\n",
    "\n",
    "print(lista[0])\n",
    "\n",
    "#Exiba o filme da posição 4\n",
    "\n",
    "print(lista[4])\n",
    "\n",
    "#Substitua o filme da última posição e exiba a lista\n",
    "\n",
    "lista[6] = \"Toy Story\"\n",
    "print(lista)\n",
    "\n",
    "#Insira um novo filme no final da lista e exiba a lista\n",
    "\n",
    "lista.append('O chamado')\n",
    "print(lista)\n",
    "\n",
    "#Insira um novo filme na posição 5 e exiba a lista\n",
    "\n",
    "lista.insert(5, \"Fragmentado\")\n",
    "print(lista)\n",
    "\n",
    "#Exclua o primeiro filme e exiba a lista\n",
    "\n",
    "lista.pop(0)\n",
    "print(lista)\n",
    "\n",
    "#Exclua o último filme e exiba a lista\n",
    "\n",
    "lista.remove(\"O chamado\")\n",
    "print(lista)\n",
    "\n",
    "#Exiba os 3 primeiros filmes da lista\n",
    "\n",
    "print(lista[0:2])\n",
    "\n",
    "#Exiba os 4 últimos filmes da lista\n",
    "\n",
    "print(lista[3:])\n",
    "\n",
    "#Exiba a quantidade de filmes atualmente na lista\n",
    "\n",
    "print(len(lista))\n",
    "\n",
    "#Ordene os filmes em ordem decrescente e exiba-os\n",
    "\n",
    "lista.reverse()\n",
    "print(lista)\n"
   ]
  },
  {
   "cell_type": "markdown",
   "metadata": {},
   "source": [
    "2 - Crie uma lista com os 20 times do campeonato brasileiro de futebol"
   ]
  },
  {
   "cell_type": "code",
   "execution_count": 33,
   "metadata": {},
   "outputs": [
    {
     "name": "stdout",
     "output_type": "stream",
     "text": [
      "Como campeão São Paulo\n",
      "Indo jogar a libertadores ['São Paulo', 'Palmeiras', 'Atlético-MG', 'Flamengo']\n",
      "rebaixados para a equipe b ['Vitória', 'Juventude', 'Criciúma', 'Atlético-GO']\n"
     ]
    }
   ],
   "source": [
    "times = [\"São Paulo\", \"Palmeiras\", \"Atlético-MG\", \"Flamengo\", \"Grêmio\", \"Botafogo\", \"Red Bull Bragantino\", \"fluminense\", \"Athletico-PR\", \"Internacional\", \"Fortaleza\", \"Cuiabá\", \"Corinthians\", \"Cruzeiro\", \"Vasco\", \"Bahia\", \"Vitória\", \"Juventude\", \"Criciúma\", \"Atlético-GO\"]\n",
    "\n",
    "#Exiba o primeiro time da lista como campeão\n",
    "\n",
    "print(f\"Como campeão {times[0]}\")\n",
    "\n",
    "#Exiba os 4 primeiros times como que irão jogar a libertadores\n",
    "\n",
    "print(f\"Indo jogar a libertadores {times[0:4]}\")\n",
    "\n",
    "#Exiba os 4 últimos times como os que estão rebaixados para a série B\n",
    "\n",
    "print(f\"rebaixados para a equipe b {times[16:]}\")\n",
    "\n",
    "\n"
   ]
  },
  {
   "cell_type": "markdown",
   "metadata": {},
   "source": [
    "3 - Crie um programa que receba do usuário através do input 6 comidas e refaça todos\n",
    "os itens do exercício"
   ]
  },
  {
   "cell_type": "code",
   "execution_count": 50,
   "metadata": {},
   "outputs": [
    {
     "name": "stdout",
     "output_type": "stream",
     "text": [
      "['Macarão', 'Miojo', 'Lasanha', 'Arroz de forno', 'Arroz doce', 'Carbonara']\n",
      "Macarão\n",
      "Arroz doce\n",
      "['Macarão', 'Miojo', 'Lasanha', 'Arroz de forno', 'Arroz doce', 'Carne de panela']\n",
      "['Macarão', 'Miojo', 'Lasanha', 'Arroz de forno', 'Arroz doce', 'Carne de panela', 'Doce de leite']\n",
      "['Macarão', 'Miojo', 'Lasanha', 'Arroz de forno', 'Arroz doce', 'Sorvete', 'Carne de panela', 'Doce de leite']\n",
      "['Miojo', 'Lasanha', 'Arroz de forno', 'Arroz doce', 'Sorvete', 'Carne de panela', 'Doce de leite']\n",
      "['Miojo', 'Lasanha', 'Arroz de forno', 'Arroz doce', 'Sorvete', 'Carne de panela']\n",
      "['Miojo', 'Lasanha']\n",
      "['Arroz de forno', 'Arroz doce', 'Sorvete', 'Carne de panela']\n",
      "6\n",
      "['Carne de panela', 'Sorvete', 'Arroz doce', 'Arroz de forno', 'Lasanha', 'Miojo']\n"
     ]
    }
   ],
   "source": [
    "comida = []\n",
    "for x in range (6) :\n",
    "    lista = input(\"digite aqui a comida: \")\n",
    "    comida.append(lista)\n",
    "print(comida)\n",
    "\n",
    "\n",
    "#Exiba apenas o primeiro o item da lista\n",
    "\n",
    "print(comida[0])\n",
    "\n",
    "#Exiba o item da posição 4\n",
    "\n",
    "print(comida[4])\n",
    "\n",
    "#Substitua o item da última posição e exiba a lista\n",
    "\n",
    "comida[5] = \"Carne de panela\"\n",
    "print(comida)\n",
    "\n",
    "\n",
    "#Insira um novo item no final da lista e exiba a lista \n",
    "\n",
    "comida.append(\"Doce de leite\")\n",
    "print(comida)\n",
    "\n",
    "#Insira um novo item na posição 5 e exiba a lista\n",
    "\n",
    "comida.insert(5, \"Sorvete\")\n",
    "print(comida)\n",
    "\n",
    "#Exclua o primeiro item e exiba a lista\n",
    "\n",
    "comida.pop(0)\n",
    "print(comida)\n",
    "\n",
    "#Exclua o último item e exiba a lista\n",
    "\n",
    "del comida [6]\n",
    "print(comida)\n",
    "\n",
    "#Exiba os 3 primeiros itens da lista\n",
    "\n",
    "print(comida[0:2])\n",
    "\n",
    "#Exiba os 4 últimos itens da lista\n",
    "\n",
    "print(comida[2:])\n",
    "\n",
    "#Exiba a quantidade de itens atualmente na lista\n",
    "\n",
    "print(len(comida))\n",
    "\n",
    "#Ordene os itens em ordem decrescente e exiba-os\n",
    "\n",
    "comida.reverse()\n",
    "print(comida)"
   ]
  }
 ],
 "metadata": {
  "kernelspec": {
   "display_name": "Python 3",
   "language": "python",
   "name": "python3"
  },
  "language_info": {
   "codemirror_mode": {
    "name": "ipython",
    "version": 3
   },
   "file_extension": ".py",
   "mimetype": "text/x-python",
   "name": "python",
   "nbconvert_exporter": "python",
   "pygments_lexer": "ipython3",
   "version": "3.12.3"
  }
 },
 "nbformat": 4,
 "nbformat_minor": 2
}
