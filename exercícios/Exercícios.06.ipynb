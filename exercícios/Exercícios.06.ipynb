{
 "cells": [
  {
   "cell_type": "markdown",
   "metadata": {},
   "source": [
    "1 - Utilizando o comando for, exiba todos os numeros ímpares de 1 a 40"
   ]
  },
  {
   "cell_type": "code",
   "execution_count": 3,
   "metadata": {},
   "outputs": [
    {
     "name": "stdout",
     "output_type": "stream",
     "text": [
      "1\n",
      "3\n",
      "5\n",
      "7\n",
      "9\n",
      "11\n",
      "13\n",
      "15\n",
      "17\n",
      "19\n",
      "21\n",
      "23\n",
      "25\n",
      "27\n",
      "29\n",
      "31\n",
      "33\n",
      "35\n",
      "37\n",
      "39\n"
     ]
    }
   ],
   "source": [
    "for impares in range (1, 40, 2) : #pq o 2 no final vai ser como ir somando de 2 em dois (a partir do 1)\n",
    "    print(impares)"
   ]
  },
  {
   "cell_type": "code",
   "execution_count": 9,
   "metadata": {},
   "outputs": [
    {
     "name": "stdout",
     "output_type": "stream",
     "text": [
      "1\n",
      "3\n",
      "5\n",
      "7\n",
      "9\n",
      "11\n",
      "13\n",
      "15\n",
      "17\n",
      "19\n",
      "21\n",
      "23\n",
      "25\n",
      "27\n",
      "29\n",
      "31\n",
      "33\n",
      "35\n",
      "37\n",
      "39\n"
     ]
    }
   ],
   "source": [
    "#CORREÇÂO\n",
    "for x in range (40) :\n",
    "    if x % 2 != 0 :\n",
    "        print(x)\n"
   ]
  },
  {
   "cell_type": "markdown",
   "metadata": {},
   "source": [
    "2 -  Gere os 6 números do sorteio da mega-sena de forma aleatória."
   ]
  },
  {
   "cell_type": "code",
   "execution_count": 38,
   "metadata": {},
   "outputs": [
    {
     "name": "stdout",
     "output_type": "stream",
     "text": [
      "41\n",
      "20\n",
      "41\n",
      "30\n",
      "51\n",
      "19\n"
     ]
    }
   ],
   "source": [
    "import random\n",
    "for n in range (6) :\n",
    "    numero = random.randint(1, 60)\n",
    "    print(numero)\n",
    "\n",
    "\n",
    "\n"
   ]
  },
  {
   "cell_type": "code",
   "execution_count": 24,
   "metadata": {},
   "outputs": [
    {
     "name": "stdout",
     "output_type": "stream",
     "text": [
      "6\n",
      "43\n",
      "52\n",
      "60\n",
      "51\n",
      "18\n"
     ]
    }
   ],
   "source": [
    "#CORREÇÂO\n",
    "import random \n",
    "\n",
    "for x in range (1, 7) :\n",
    "    nmr = random.randint(1, 60) \n",
    "    print(nmr)\n"
   ]
  },
  {
   "cell_type": "markdown",
   "metadata": {},
   "source": [
    "3 - Receba 5 números e verifique a soma e a quantidade de todos os pares e ímpares digitados"
   ]
  },
  {
   "cell_type": "code",
   "execution_count": 33,
   "metadata": {},
   "outputs": [
    {
     "name": "stdout",
     "output_type": "stream",
     "text": [
      "a soma é 45 são 0 pares e 5 impares\n"
     ]
    }
   ],
   "source": [
    "numero = 1\n",
    "par = 0\n",
    "impar = 0\n",
    "soma = 0\n",
    "for nr in range (5) :\n",
    "    numero = int(input(\"Digite aqui o numero\"))\n",
    "    if numero % 2 == 0 :\n",
    "        par += 1 #qtde de par = par + 1\n",
    "    if numero % 2 == 1 :\n",
    "        impar += 1 #qtde de impar = par + 1\n",
    "    soma += numero\n",
    "print(f\"a soma é {soma} são {par} pares e {impar} impares\")\n",
    "\n",
    "\n"
   ]
  },
  {
   "cell_type": "code",
   "execution_count": 42,
   "metadata": {},
   "outputs": [
    {
     "name": "stdout",
     "output_type": "stream",
     "text": [
      "A soma total 45, voc~e digitou 0 pares e 5 ímpares \n"
     ]
    }
   ],
   "source": [
    "#CORREÇÂO\n",
    "soma = 0\n",
    "par = 0 \n",
    "impar = 0 \n",
    "for nr in range (5) :\n",
    "    nr = int(input(\"digite um nmr :\"))\n",
    "    soma =  soma + nr\n",
    "    if nr % 2 == 0 :\n",
    "        par = par + 1\n",
    "    else :\n",
    "        impar = impar + 1 \n",
    "print(f\"A soma total {soma}, você digitou {par} pares e {impar} ímpares \")"
   ]
  },
  {
   "cell_type": "markdown",
   "metadata": {},
   "source": [
    "4 - Solicite os parâmetros de início, fim e passo para o laço de repetição usando a função range()\n",
    "e exiba o valor atual da variável de controle a cada iteração. range( x , y , z )"
   ]
  },
  {
   "cell_type": "code",
   "execution_count": 57,
   "metadata": {},
   "outputs": [
    {
     "name": "stdout",
     "output_type": "stream",
     "text": [
      "50\n",
      "48\n",
      "46\n",
      "44\n",
      "42\n",
      "40\n",
      "38\n",
      "36\n",
      "34\n",
      "32\n",
      "30\n",
      "28\n",
      "26\n",
      "24\n",
      "22\n",
      "20\n",
      "18\n",
      "16\n",
      "14\n",
      "12\n"
     ]
    }
   ],
   "source": [
    "inicio = int(input(\"digite o valor inicial\"))\n",
    "fim = int(input(\"digite o valor final\"))\n",
    "passo = int(input(\"Digite o passo\"))\n",
    "for x in range (inicio, fim, passo) :\n",
    "    print(x)"
   ]
  },
  {
   "cell_type": "code",
   "execution_count": null,
   "metadata": {},
   "outputs": [],
   "source": [
    "#CORREÇÂO\n",
    "inicio = int(input(\"digite o valor inicial\"))\n",
    "fim = int(input(\"digite o valor final\"))\n",
    "passo = int(input(\"Digite o passo\"))\n",
    "for x in range (inicio, fim, passo) :\n",
    "    print(x)\n"
   ]
  },
  {
   "cell_type": "markdown",
   "metadata": {},
   "source": [
    "5 - Ler do teclado a idade e o sexo de 10 pessoas, calcule e imprima:\n",
    "• idade média das mulheres\n",
    "• idade média dos homens\n",
    "• idade média do grupo"
   ]
  },
  {
   "cell_type": "code",
   "execution_count": 97,
   "metadata": {},
   "outputs": [
    {
     "name": "stdout",
     "output_type": "stream",
     "text": [
      "media das mulheres 5.0\n",
      "media dos homens 5.0\n",
      "meia grupo 27.5\n"
     ]
    }
   ],
   "source": [
    "soma_mulher = 0\n",
    "soma_homem = 0\n",
    "qtde_homem = 0\n",
    "qtde_mulher = 0\n",
    "for media in range (10) :\n",
    "    idade = int(input(\"digite a idade: \"))\n",
    "    sexo = input(\"digite aqui seu sexo: [F/M]\")\n",
    "    if sexo == \"F\" :\n",
    "        soma_mulher = soma_mulher + idade\n",
    "        qtde_mulher = qtde_mulher + 1\n",
    "    else :\n",
    "        soma_homem  = soma_homem + idade\n",
    "        qtde_homem = qtde_homem + 1\n",
    "    media_m = soma_mulher / qtde_mulher\n",
    "    media_h = soma_homem / qtde_mulher\n",
    "    media_grupo = soma_homem + soma_mulher / (qtde_homem + qtde_mulher)\n",
    "print(f\"media das mulheres {media_m}\")\n",
    "print(f\"media dos homens {media_h}\")\n",
    "print(f\"meia grupo {media_grupo}\")"
   ]
  },
  {
   "cell_type": "code",
   "execution_count": 81,
   "metadata": {},
   "outputs": [
    {
     "name": "stdout",
     "output_type": "stream",
     "text": [
      "media das mulheres 40.666666666666664\n",
      "media dos homens 17.0\n",
      "media o grupo 31.2\n"
     ]
    }
   ],
   "source": [
    "#CORREÇÂO\n",
    "soma_m = 0\n",
    "soma_h = 0\n",
    "qtde_m = 0\n",
    "qtde_h = 0\n",
    "for x in range (5) :\n",
    "    idade = int(input(\"digite a idade: \"))\n",
    "    sexo = input(\"digite aqui seu sexo: [F/M]\")\n",
    "    if sexo == \"F\":\n",
    "        soma_m = soma_m + idade\n",
    "        qtde_m = qtde_m + 1\n",
    "    else :\n",
    "        soma_h = soma_h + idade\n",
    "        qtde_h = qtde_h + 1\n",
    "print(f\"media das mulheres {soma_m / qtde_m}\")\n",
    "print(f\"media dos homens {soma_h / qtde_h}\")\n",
    "print(f\"media o grupo {(soma_h + soma_m) / (qtde_h + qtde_m) }\")\n",
    "    \n"
   ]
  },
  {
   "cell_type": "markdown",
   "metadata": {},
   "source": [
    "6 - Escreva um programa que mostre todos os números entre 5 e 100 que são divisíveis por 7. Os\n",
    "números obtidos devem ser impressos em sequência."
   ]
  },
  {
   "cell_type": "code",
   "execution_count": 61,
   "metadata": {},
   "outputs": [
    {
     "name": "stdout",
     "output_type": "stream",
     "text": [
      "7\n",
      "14\n",
      "21\n",
      "28\n",
      "35\n",
      "42\n",
      "49\n",
      "56\n",
      "63\n",
      "70\n",
      "77\n",
      "84\n",
      "91\n",
      "98\n"
     ]
    }
   ],
   "source": [
    "for x in range (5, 100) :\n",
    "    if x % 7 == 0 :\n",
    "        print(x)"
   ]
  },
  {
   "cell_type": "code",
   "execution_count": null,
   "metadata": {},
   "outputs": [],
   "source": [
    "#CORREÇÂO\n"
   ]
  },
  {
   "cell_type": "markdown",
   "metadata": {},
   "source": [
    "7 - Escreva um programa em Python que receba uma string do usuário e mostre de trás para\n",
    "frente."
   ]
  },
  {
   "cell_type": "code",
   "execution_count": 4,
   "metadata": {},
   "outputs": [
    {
     "name": "stdout",
     "output_type": "stream",
     "text": [
      "orvil\n"
     ]
    }
   ],
   "source": [
    "#CORREÇÂO\n",
    "palavra = input ('digite aqui uma palavra')\n",
    "np = \"\"\n",
    "for letra in palavra :\n",
    "    np = letra + np\n",
    "print(np)"
   ]
  }
 ],
 "metadata": {
  "kernelspec": {
   "display_name": "Python 3",
   "language": "python",
   "name": "python3"
  },
  "language_info": {
   "codemirror_mode": {
    "name": "ipython",
    "version": 3
   },
   "file_extension": ".py",
   "mimetype": "text/x-python",
   "name": "python",
   "nbconvert_exporter": "python",
   "pygments_lexer": "ipython3",
   "version": "3.12.3"
  }
 },
 "nbformat": 4,
 "nbformat_minor": 2
}
