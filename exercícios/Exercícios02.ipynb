{
 "cells": [
  {
   "cell_type": "markdown",
   "metadata": {},
   "source": [
    "1 - Leia 2 notas de um aluno , calcule a média e imprima aprovado ou reprovado (para ser a provado a nota mínima é 7)"
   ]
  },
  {
   "cell_type": "code",
   "execution_count": 2,
   "metadata": {},
   "outputs": [
    {
     "name": "stdout",
     "output_type": "stream",
     "text": [
      "aprovado\n",
      "Fim\n"
     ]
    }
   ],
   "source": [
    "nota1 = float(input('digite aqui a primeira nota: '))\n",
    "nota2 = float(input('digite aqui a segunda nota'))\n",
    "media = (nota1 + nota2) / 2\n",
    "if media >= 7 :\n",
    "    print('aprovado')\n",
    "else :\n",
    "    print('reprovado')\n",
    "\n",
    "print('Fim')"
   ]
  },
  {
   "cell_type": "markdown",
   "metadata": {},
   "source": [
    "2 - Peça dois números ao usuário e mostre qual o maior e qual o menor"
   ]
  },
  {
   "cell_type": "code",
   "execution_count": 5,
   "metadata": {},
   "outputs": [
    {
     "name": "stdout",
     "output_type": "stream",
     "text": [
      "10.0 é maior que 5.0\n",
      "fim\n"
     ]
    }
   ],
   "source": [
    "numero1 = float(input('Digite aqui o primeiro numero'))\n",
    "numero2 = float(input('Digite aqui o segundo numero'))\n",
    "if numero1 > numero2 :\n",
    "    print(f\"{numero1} é maior que {numero2}\")\n",
    "else :\n",
    "   print(f\"{numero1} é menor que {numero2}\")\n",
    "\n",
    "print(\"fim\")"
   ]
  },
  {
   "cell_type": "markdown",
   "metadata": {},
   "source": [
    "3 - Receba um inteiro e diga se é par ou ímpar"
   ]
  },
  {
   "cell_type": "code",
   "execution_count": 8,
   "metadata": {},
   "outputs": [
    {
     "name": "stdout",
     "output_type": "stream",
     "text": [
      "ímpar\n",
      "fim\n"
     ]
    }
   ],
   "source": [
    "numero = int(input('digite aqui o numero inteiro'))\n",
    "if numero % 2 == 0 :\n",
    "    print(\"par\")\n",
    "else :\n",
    "    print(\"ímpar\")\n",
    "\n",
    "print('fim')"
   ]
  },
  {
   "cell_type": "markdown",
   "metadata": {},
   "source": [
    "4 - Receba um número inteiro e diga se é positivo ou negativo"
   ]
  },
  {
   "cell_type": "code",
   "execution_count": 4,
   "metadata": {},
   "outputs": [
    {
     "name": "stdout",
     "output_type": "stream",
     "text": [
      "negativo\n"
     ]
    }
   ],
   "source": [
    "numero = int(input('digite aqui o número'))\n",
    "if numero > 0 :\n",
    "    print('positivo')\n",
    "else :\n",
    "    print(\"negativo\")\n",
    "\n",
    "print(\"fim\")"
   ]
  },
  {
   "cell_type": "markdown",
   "metadata": {},
   "source": [
    "5 - Pergunte o ano de nascimento de uma pessoa e diga se ele é maior de idade"
   ]
  },
  {
   "cell_type": "code",
   "execution_count": 3,
   "metadata": {},
   "outputs": [
    {
     "name": "stdout",
     "output_type": "stream",
     "text": [
      "menor de idade\n",
      "fim\n"
     ]
    }
   ],
   "source": [
    "idade = float(input(\"insira aqui sua idade\"))\n",
    "if idade >=18 :\n",
    "    print(\"maior de idade\")\n",
    "else :\n",
    "    print(\"menor de idade\")\n",
    "\n",
    "print(\"fim\")"
   ]
  },
  {
   "cell_type": "markdown",
   "metadata": {},
   "source": [
    "6 - Ler dois números inteiros e informar se estes são iguais ou diferentes."
   ]
  },
  {
   "cell_type": "code",
   "execution_count": 2,
   "metadata": {},
   "outputs": [
    {
     "name": "stdout",
     "output_type": "stream",
     "text": [
      "são diferentes\n"
     ]
    }
   ],
   "source": [
    "numero1 = int(input(\"insira aqui o primeiro número\"))\n",
    "numero2 = int(input(\"insira aqui o segundo número\"))\n",
    "if numero1 == numero2 :\n",
    "    print(\"são iguais\")\n",
    "else :\n",
    "    print(\"são diferentes\")\n"
   ]
  },
  {
   "cell_type": "markdown",
   "metadata": {},
   "source": [
    "7 - Receba a velocidade do carro e exiba que foi multado se for maior que 80km/h, o valor da\n",
    "multa será R$ 7,00 por cada km excedido, exibir o valor da multa"
   ]
  },
  {
   "cell_type": "code",
   "execution_count": 10,
   "metadata": {},
   "outputs": [
    {
     "name": "stdout",
     "output_type": "stream",
     "text": [
      "multa de 140.0\n",
      "fim\n"
     ]
    }
   ],
   "source": [
    "velocidade_carro = float(input(\"insira aqui a velocidade do carro: \"))\n",
    "if velocidade_carro > 80 :\n",
    "    multa = (velocidade_carro - 80) * 7.00\n",
    "    print(f'multa de {multa}')\n",
    "else :\n",
    "    print(\"não multado\")\n",
    "    \n",
    "print('fim')"
   ]
  },
  {
   "cell_type": "markdown",
   "metadata": {},
   "source": [
    "EXTRAS"
   ]
  },
  {
   "cell_type": "markdown",
   "metadata": {},
   "source": [
    "1 - Crie um programa que receba três números e os imprima em ordem crescente."
   ]
  },
  {
   "cell_type": "code",
   "execution_count": null,
   "metadata": {},
   "outputs": [],
   "source": [
    "numero1 = float(input('insira aqui o primeiro numero:'))\n",
    "numero2 = float(input('insira aqui o segundo numero:'))\n",
    "numero3 = float(input('insira aqui o terceiro numero: '))\n",
    "\n"
   ]
  },
  {
   "cell_type": "markdown",
   "metadata": {},
   "source": [
    "2 - Escreva um programa que calcule o preço a ser pago por um produto considerando um desconto de 10% se o valor da compra for maior que R$ 100,00."
   ]
  },
  {
   "cell_type": "code",
   "execution_count": 10,
   "metadata": {},
   "outputs": [
    {
     "name": "stdout",
     "output_type": "stream",
     "text": [
      "95.0\n"
     ]
    }
   ],
   "source": [
    "preco = float(input('insira aqui o preço: '))\n",
    "if preco > 100 :\n",
    "    desconto = (preco / 100) * 10\n",
    "    preco = preco - desconto\n",
    "    print(preco)\n",
    "else :\n",
    "    print(preco)"
   ]
  },
  {
   "cell_type": "markdown",
   "metadata": {},
   "source": [
    "3 - Desenvolva um programa que receba o valor de 3 lados de um triângulo e verifique se pode formar um triângulo."
   ]
  },
  {
   "cell_type": "code",
   "execution_count": 12,
   "metadata": {},
   "outputs": [
    {
     "name": "stdout",
     "output_type": "stream",
     "text": [
      "9.0 , 5.0 , 10.0 podem formar um triângulo\n",
      "pode formar um triângulo\n"
     ]
    }
   ],
   "source": [
    "a = float(input('insira aqui o primeiro lado: '))\n",
    "b = float(input('insira aqui o quarto lado: '))\n",
    "c = float(input('insira aqui o terceiro lado: '))\n",
    "if (b - c) < a < b + c or (a - c) < b < a + c or (a - b) < c < a + b:\n",
    "    print(f\"{a} , {b} , {c} podem formar um triângulo\")\n",
    "    print('pode formar um triângulo')\n",
    "else :\n",
    "    print('não pode formar um triângulo')"
   ]
  },
  {
   "cell_type": "markdown",
   "metadata": {},
   "source": [
    "4 - Crie um programa que receba 2 valores e troque os valores das variáveis entre si, ex.: var a=1 e b=2 , exibir \"O valor da variável a=2 e b=1\""
   ]
  },
  {
   "cell_type": "code",
   "execution_count": 21,
   "metadata": {},
   "outputs": [
    {
     "name": "stdout",
     "output_type": "stream",
     "text": [
      "O valor da variável a=80.0 e b=70.0\n"
     ]
    }
   ],
   "source": [
    "valor1 = float(input('insira aqui o primeiro valor'))\n",
    "valor2 = float(input('insira aqui o segundo valor'))\n",
    "a = valor2\n",
    "b = valor1\n",
    "print(f'O valor da variável a={a} e b={b}')\n",
    "\n",
    "\n"
   ]
  },
  {
   "cell_type": "markdown",
   "metadata": {},
   "source": [
    "5 - Refaça o exercício anterior, sem utilizar variáveis adicionais"
   ]
  },
  {
   "cell_type": "code",
   "execution_count": null,
   "metadata": {},
   "outputs": [],
   "source": [
    "valor1 = float(input('insira aqui o primeiro valor'))\n",
    "valor2 = float(input('insira aqui o segundo valor'))\n"
   ]
  }
 ],
 "metadata": {
  "kernelspec": {
   "display_name": "Python 3",
   "language": "python",
   "name": "python3"
  },
  "language_info": {
   "codemirror_mode": {
    "name": "ipython",
    "version": 3
   },
   "file_extension": ".py",
   "mimetype": "text/x-python",
   "name": "python",
   "nbconvert_exporter": "python",
   "pygments_lexer": "ipython3",
   "version": "3.12.2"
  }
 },
 "nbformat": 4,
 "nbformat_minor": 2
}
