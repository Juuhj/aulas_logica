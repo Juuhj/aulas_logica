{
 "cells": [
  {
   "cell_type": "markdown",
   "metadata": {},
   "source": [
    "00 - Faça um programa que leia algo pelo teclado e mostre na tela o seu tipo primitivo "
   ]
  },
  {
   "cell_type": "code",
   "execution_count": 4,
   "metadata": {},
   "outputs": [
    {
     "name": "stdout",
     "output_type": "stream",
     "text": [
      "<class 'str'>\n"
     ]
    }
   ],
   "source": [
    "p_ler = input(\"adicione aqui os caracteres\")\n",
    "print(type(p_ler))"
   ]
  },
  {
   "cell_type": "markdown",
   "metadata": {},
   "source": [
    "01 - Crie um programa que leia dois números e mostre a soma\n",
    "entre eles"
   ]
  },
  {
   "cell_type": "code",
   "execution_count": 6,
   "metadata": {},
   "outputs": [
    {
     "name": "stdout",
     "output_type": "stream",
     "text": [
      "71.0\n",
      "50.0 + 21.0 = 71.0\n"
     ]
    }
   ],
   "source": [
    "numero1 = float(input(\"digite aqui o primeiro número:\"))\n",
    "numero2 = float(input(\"digite aqui o segundo número:\"))\n",
    "soma = numero1 + numero2\n",
    "print(soma)\n",
    "\n",
    "#ou\n",
    "\n",
    "numero1 = float(input(\"digite aqui o primeiro número:\"))\n",
    "numero2 = float(input(\"digite aqui o segundo número:\"))\n",
    "soma = numero1 + numero2\n",
    "print(f\"{numero1} + {numero2} = {soma}\")\n"
   ]
  },
  {
   "cell_type": "markdown",
   "metadata": {},
   "source": [
    "02 - Crie um programa que leia um número inteiro e mostre na\n",
    "tela o seu sucessor e antecessor."
   ]
  },
  {
   "cell_type": "code",
   "execution_count": 18,
   "metadata": {},
   "outputs": [
    {
     "name": "stdout",
     "output_type": "stream",
     "text": [
      "o número antecesor de 14 é 13, e o número sucessor é 15\n"
     ]
    }
   ],
   "source": [
    "numero1 = int(input(\"digite aqui o número:\"))\n",
    "antecesor = (numero1 - 1)\n",
    "sucessor = (numero1 + 1)\n",
    "print(f\"o número antecesor de {numero1} é {antecesor}, e o número sucessor é {sucessor}\")"
   ]
  },
  {
   "cell_type": "markdown",
   "metadata": {},
   "source": [
    "03 - Crie um programa que leia um número e mostre o seu\n",
    "dobro, triplo e raiz quadrada."
   ]
  },
  {
   "cell_type": "code",
   "execution_count": 19,
   "metadata": {},
   "outputs": [
    {
     "name": "stdout",
     "output_type": "stream",
     "text": [
      "o dobro de 144.0 é 288.0, o triplo 432.0 e a raiz quadrada 12.0\n"
     ]
    }
   ],
   "source": [
    "numero1 = float(input(\"digite aqui o número\"))\n",
    "dobro = (numero1 * 2)\n",
    "triplo = (numero1 * 3)\n",
    "raiz_quadrada = (numero1 ** 0.5)\n",
    "print(f\"o dobro de {numero1} é {dobro}, o triplo {triplo} e a raiz quadrada {raiz_quadrada}\")"
   ]
  },
  {
   "cell_type": "markdown",
   "metadata": {},
   "source": [
    "04 - Crie um programa que leia duas notas de um aluno, calcule\n",
    "e mostre sua média."
   ]
  },
  {
   "cell_type": "code",
   "execution_count": 7,
   "metadata": {},
   "outputs": [
    {
     "name": "stdout",
     "output_type": "stream",
     "text": [
      "8.5\n",
      "10 + 7 = 8.5 de média\n"
     ]
    }
   ],
   "source": [
    "numero1 = 10\n",
    "numero2 = 7\n",
    "media = ((10 + 7) / 2)\n",
    "print(media)\n",
    "\n",
    "#ou\n",
    "\n",
    "numero1 = 10\n",
    "numero2 = 7 \n",
    "media = ((10+7) / 2)\n",
    "print(f\"{numero1} + {numero2} = {media} de média\")"
   ]
  },
  {
   "cell_type": "markdown",
   "metadata": {},
   "source": [
    "05 - Crie um programa que leia o valor em metros e o exiba\n",
    "convertido em centímetros e milímetros."
   ]
  },
  {
   "cell_type": "code",
   "execution_count": 24,
   "metadata": {},
   "outputs": [
    {
     "name": "stdout",
     "output_type": "stream",
     "text": [
      "10.0 metros são iguais a 1000.0 centímetros e  10000.0 milímetros\n"
     ]
    }
   ],
   "source": [
    "metro = float(input(\"digite aqui o número\"))\n",
    "centimetros = (metro * 100)\n",
    "milimetros = (metro * 1000)\n",
    "print(f'{metro} metros são iguais a {centimetros} centímetros e  {milimetros} milímetros')"
   ]
  },
  {
   "cell_type": "markdown",
   "metadata": {},
   "source": [
    "06 - Crie um programa que leia um numero qualquer e mostre\n",
    "na tela a sua tabuada."
   ]
  },
  {
   "cell_type": "code",
   "execution_count": 50,
   "metadata": {},
   "outputs": [
    {
     "name": "stdout",
     "output_type": "stream",
     "text": [
      "tabuada do 9.0\n",
      "9.0 x 0 = 0.0\n",
      "9.0 x 1 = 9.0\n",
      "9.0 x 2 = 18.0\n",
      "9.0 x 3 = 27.0\n",
      "9.0 x 4 = 36.0\n",
      "9.0 x 5 = 45.0\n",
      "9.0 x 6 = 54.0\n",
      "9.0 x 7 = 63.0\n",
      "9.0 x 8 = 72.0\n",
      "9.0 x 9 = 81.0\n",
      "9.0 x 10 = 90.0\n"
     ]
    }
   ],
   "source": [
    "numero = float(input(\"digite o número aqui\"))\n",
    "zero = numero * 0\n",
    "um = numero * 1\n",
    "dois = numero * 2\n",
    "tres = numero * 3\n",
    "quatro = numero * 4\n",
    "cinco = numero * 5\n",
    "seis = numero * 6\n",
    "sete = numero * 7\n",
    "oito = numero * 8\n",
    "nove = numero * 9\n",
    "dez = numero * 10\n",
    "print(f\"tabuada do {numero}\")\n",
    "print(f\"{numero} x 0 = {zero}\")\n",
    "print(f'{numero} x 1 = {um}')   \n",
    "print(f'{numero} x 2 = {dois}')   \n",
    "print(f'{numero} x 3 = {tres}')   \n",
    "print(f'{numero} x 4 = {quatro}')   \n",
    "print(f'{numero} x 5 = {cinco}')   \n",
    "print(f'{numero} x 6 = {seis}')   \n",
    "print(f'{numero} x 7 = {sete}')   \n",
    "print(f'{numero} x 8 = {oito}')   \n",
    "print(f'{numero} x 9 = {nove}')   \n",
    "print(f'{numero} x 10 = {dez}')   \n"
   ]
  },
  {
   "cell_type": "markdown",
   "metadata": {},
   "source": [
    "07 - Crie um programa que leia quanto dinheiro a pessoa tem na\n",
    "carteira e mostre quantos dólares ela pode contar."
   ]
  },
  {
   "cell_type": "code",
   "execution_count": 11,
   "metadata": {},
   "outputs": [
    {
     "name": "stdout",
     "output_type": "stream",
     "text": [
      "10.02004008016032\n",
      "50.0 reais dão 10.02004008016032 dolares ao ser convertido\n"
     ]
    }
   ],
   "source": [
    "carteira = float(input(\"insira aqui a quantidade de dinheiro\"))\n",
    "dolar = carteira / 4.99\n",
    "print(dolar)\n",
    "\n",
    "#ou\n",
    "\n",
    "carteira = float(input(\"insira aqui a quantidade de dinheiro\"))\n",
    "dolar = carteira / 4.99\n",
    "print(f\"{carteira} reais dão {dolar} dolares ao ser convertido\")"
   ]
  },
  {
   "cell_type": "markdown",
   "metadata": {},
   "source": [
    "08 - Crie um programa que leia a largura e a altura de uma\n",
    "parede em metros, calcule a sua área e a quantidade de tinta\n",
    "necessária para pintá-lo, sabendo que cada litro de tinta pinta\n",
    "uma área de 2m2."
   ]
  },
  {
   "cell_type": "code",
   "execution_count": 34,
   "metadata": {},
   "outputs": [
    {
     "name": "stdout",
     "output_type": "stream",
     "text": [
      "seria necessário de 9.0 litros de tinta para pintar uma parede de 6.0m de largura e 3.0m de altura\n"
     ]
    }
   ],
   "source": [
    "largura = float(input(\"insira aqui a largura da parede\"))\n",
    "altura = float(input(\"insira aqui a altura da parede\"))\n",
    "area = largura * altura\n",
    "quant_de_tinta = area / 2\n",
    "print(f\"seria necessário de {quant_de_tinta} litros de tinta para pintar uma parede de {largura}m de largura e {altura}m de altura\")"
   ]
  },
  {
   "cell_type": "markdown",
   "metadata": {},
   "source": [
    "09 - Faça um algoritmo que leia o preço do produto e mostre\n",
    "seu novo preço com 5% de desconto."
   ]
  },
  {
   "cell_type": "code",
   "execution_count": 18,
   "metadata": {},
   "outputs": [
    {
     "name": "stdout",
     "output_type": "stream",
     "text": [
      "38.0\n",
      "ganhei desconto de 2.0 reais em um produto que custava 40.0 reais devido a uma promoção de 5%, devido a isso paguei apenas 38.0 reais\n"
     ]
    }
   ],
   "source": [
    "preco = float(input(\"insira aqui o preço do produto\"))\n",
    "desconto = (preco / 100) * 5\n",
    "valor = preco - desconto\n",
    "print(valor)\n",
    "print(f\"ganhei desconto de {desconto} reais em um produto que custava {preco} reais devido a uma promoção de 5%, devido a isso paguei apenas {valor} reais\")"
   ]
  },
  {
   "cell_type": "code",
   "execution_count": 16,
   "metadata": {},
   "outputs": [
    {
     "name": "stdout",
     "output_type": "stream",
     "text": [
      "40\n"
     ]
    }
   ],
   "source": [
    "desconto = 2\n",
    "valor_original = (2 * 20)\n",
    "print (valor_original)\n",
    "#vim fazer a conta porque queria usar \"reais\" na quinta linha de código, mas não podia se o valor fosse menor do que 2. Por isso, por meio de lógica usei o valor \"20\" para\n",
    "#multiplicar 5%, assim 5% * 20 = 100% (poderia ter usado lógica para chegar no resultado, mas seria chato)"
   ]
  },
  {
   "cell_type": "markdown",
   "metadata": {},
   "source": [
    "10 - Faça um algoritmo que leia o salário do funcionário e\n",
    "mostre seu novo salário com 15% de aumento."
   ]
  },
  {
   "cell_type": "code",
   "execution_count": 29,
   "metadata": {},
   "outputs": [
    {
     "name": "stdout",
     "output_type": "stream",
     "text": [
      "1380.0\n",
      "tive um aumento de 180.0 reais no meu antigo salário, hoje ganho 1380.0\n"
     ]
    }
   ],
   "source": [
    "salario = float(input(\"insira aqui o salário\"))\n",
    "aumento = (salario / 100) * 15\n",
    "salario = salario + aumento\n",
    "print(salario)\n",
    "print(f\"tive um aumento de {aumento} reais no meu antigo salário, hoje ganho {salario}\")"
   ]
  },
  {
   "cell_type": "markdown",
   "metadata": {},
   "source": [
    "11 - Faça um algoritmo que receba um valor em graus Celsius e\n",
    "converta para farenheit."
   ]
  },
  {
   "cell_type": "code",
   "execution_count": 21,
   "metadata": {},
   "outputs": [
    {
     "name": "stdout",
     "output_type": "stream",
     "text": [
      "33.8\n",
      "1.0C° = 33.8F°\n"
     ]
    }
   ],
   "source": [
    "grausC = float(input(\"insira aqui os graus celsius\"))\n",
    "fahrenheit = grausC * 1.8 + 32\n",
    "print(fahrenheit)\n",
    "print(f\"{grausC}C° = {fahrenheit}F°\")"
   ]
  },
  {
   "cell_type": "markdown",
   "metadata": {},
   "source": [
    "12 - Faça um algoritmo que pergunte a quantidade de km\n",
    "percorridos por um carro alugado e a quantidade de dias pelos\n",
    "quais ele foi alugado. Calcule o preço a pagar, sabendo que o\n",
    "carro custa R$60 por dia e R$0.15 por km rodado."
   ]
  },
  {
   "cell_type": "code",
   "execution_count": 22,
   "metadata": {},
   "outputs": [
    {
     "name": "stdout",
     "output_type": "stream",
     "text": [
      "495.0\n",
      "deve-se pagar 495.0 após 7.0 dias de aluguel e 500.0km rodados\n"
     ]
    }
   ],
   "source": [
    "quant_de_km = float(input(\"insira aqui os km percorridos\"))\n",
    "dias = float(input(\"dias de aluguel\"))\n",
    "custo_por_dia = 60\n",
    "custo_por_km = 0.15\n",
    "preco_a_pagar = (dias * 60) + (quant_de_km * 0.15)\n",
    "print(preco_a_pagar)\n",
    "print(f\"deve-se pagar {preco_a_pagar} após {dias} dias de aluguel e {quant_de_km}km rodados\")\n"
   ]
  },
  {
   "cell_type": "code",
   "execution_count": 31,
   "metadata": {},
   "outputs": [
    {
     "name": "stdout",
     "output_type": "stream",
     "text": [
      "o valor total será de R$ 495.00\n"
     ]
    }
   ],
   "source": [
    "# CORREÇÂO\n",
    "quant_de_km = float(input('digite o km percorrido:'))\n",
    "dias = int(input('digite a quantidade de dias:'))\n",
    "pagar = (60 * dias) + (0.15 * quant_de_km)\n",
    "print(f'o valor total será de R$ {pagar:.2f}')"
   ]
  }
 ],
 "metadata": {
  "kernelspec": {
   "display_name": "Python 3",
   "language": "python",
   "name": "python3"
  },
  "language_info": {
   "codemirror_mode": {
    "name": "ipython",
    "version": 3
   },
   "file_extension": ".py",
   "mimetype": "text/x-python",
   "name": "python",
   "nbconvert_exporter": "python",
   "pygments_lexer": "ipython3",
   "version": "3.12.2"
  }
 },
 "nbformat": 4,
 "nbformat_minor": 2
}
