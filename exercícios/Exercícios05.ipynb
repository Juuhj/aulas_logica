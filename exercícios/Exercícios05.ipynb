{
 "cells": [
  {
   "cell_type": "markdown",
   "metadata": {},
   "source": [
    "1 - Utilizando o comando while, exiba todos os numeros pares, de 1 a 20"
   ]
  },
  {
   "cell_type": "code",
   "execution_count": 14,
   "metadata": {},
   "outputs": [
    {
     "name": "stdout",
     "output_type": "stream",
     "text": [
      "o numerpo 2 é par\n",
      "o numerpo 4 é par\n",
      "o numerpo 6 é par\n",
      "o numerpo 8 é par\n",
      "o numerpo 10 é par\n",
      "o numerpo 12 é par\n",
      "o numerpo 14 é par\n",
      "o numerpo 16 é par\n",
      "o numerpo 18 é par\n",
      "o numerpo 20 é par\n"
     ]
    }
   ],
   "source": [
    "x = 1\n",
    "while x <= 20 :\n",
    "    if x % 2 == 0:\n",
    "     print(f\"o numerpo {x} é par\")\n",
    "    x= x + 1\n",
    "\n",
    "    "
   ]
  },
  {
   "cell_type": "markdown",
   "metadata": {},
   "source": [
    "2 - Gere os 6 números do sorteio da mega-sena de forma aleatória."
   ]
  },
  {
   "cell_type": "code",
   "execution_count": 21,
   "metadata": {},
   "outputs": [
    {
     "name": "stdout",
     "output_type": "stream",
     "text": [
      "39\n",
      "6\n",
      "4\n",
      "4\n",
      "9\n",
      "26\n"
     ]
    }
   ],
   "source": [
    "import random\n",
    "n = 0\n",
    "while n <= 5 :\n",
    "    n = n+1\n",
    "    numero = random.randint(1, 60)\n",
    "    print(numero)\n",
    "\n"
   ]
  },
  {
   "cell_type": "markdown",
   "metadata": {},
   "source": [
    "3 - Receba alguns número e verifique a soma e a quantidade de todos os pares e ímpares\n",
    "digitados, digite 0 para não receber mais"
   ]
  },
  {
   "cell_type": "code",
   "execution_count": 18,
   "metadata": {},
   "outputs": [
    {
     "name": "stdout",
     "output_type": "stream",
     "text": [
      " soma = 49, a qtde de pares = 1 e qtde impar = 7\n"
     ]
    }
   ],
   "source": [
    "numero = 1\n",
    "par = 0\n",
    "impar = 0\n",
    "soma = 0\n",
    "while numero != 0 :\n",
    "    numero = int(input(\"Digite aqui o seu número\"))\n",
    "    soma = numero + soma\n",
    "    if numero % 2 == 0 :\n",
    "        par = par + 1\n",
    "    else :\n",
    "        impar = impar + 1\n",
    "print(f' soma = {soma}, a qtde de pares = {par} e qtde impar = {impar}')\n",
    "\n"
   ]
  },
  {
   "cell_type": "code",
   "execution_count": 26,
   "metadata": {},
   "outputs": [
    {
     "name": "stdout",
     "output_type": "stream",
     "text": [
      "a soma é 539 são 7 pares e 21 impares\n"
     ]
    }
   ],
   "source": [
    "#CORREÇÃO\n",
    "while True :\n",
    "    numero = int(input(\"digite o valor. [0 para encerrar]\"))\n",
    "    if numero == 0 :\n",
    "        break\n",
    "    if numero % 2 == 0 :\n",
    "        par += 1 #qtde de par = par + 1\n",
    "    if numero % 2 == 1 :\n",
    "        impar += 1 #qtde de impar = par + 1\n",
    "    soma += numero\n",
    "print(f\"a soma é {soma} são {par} pares e {impar} impares\")\n",
    "   \n"
   ]
  },
  {
   "cell_type": "markdown",
   "metadata": {},
   "source": [
    "4 - Faça um programa em Python que leia 5 valores inteiros e:\n"
   ]
  },
  {
   "cell_type": "code",
   "execution_count": 1,
   "metadata": {},
   "outputs": [
    {
     "name": "stdout",
     "output_type": "stream",
     "text": [
      "• Encontre e mostre o maior valor\n",
      "• Encontre e mostre o menor valor\n",
      "• Calcule e mostre a média dos números lidos\n"
     ]
    }
   ],
   "source": [
    "print(\"• Encontre e mostre o maior valor\")\n",
    "print(\"• Encontre e mostre o menor valor\")\n",
    "print(\"• Calcule e mostre a média dos números lidos\")"
   ]
  },
  {
   "cell_type": "code",
   "execution_count": null,
   "metadata": {},
   "outputs": [],
   "source": [
    "nmr = 1\n",
    "soma = 0\n",
    "while nmr <= 5 :\n",
    "    \n",
    "    \n",
    "\n",
    "    "
   ]
  },
  {
   "cell_type": "markdown",
   "metadata": {},
   "source": [
    "5 - Faça um programa que receba um número e mostre seu fatorial. \n",
    "Ex. : 5! = 5 * 4 * 3 * 2 * 1 = 120"
   ]
  },
  {
   "cell_type": "code",
   "execution_count": null,
   "metadata": {},
   "outputs": [],
   "source": []
  },
  {
   "cell_type": "markdown",
   "metadata": {},
   "source": [
    "6 - Crie um programa com um menu, onde irá receber 2 números, e pelo menu perguntar qual\n",
    "operação deseja realizar"
   ]
  },
  {
   "cell_type": "code",
   "execution_count": 2,
   "metadata": {},
   "outputs": [
    {
     "name": "stdout",
     "output_type": "stream",
     "text": [
      "[1] Somar os números\n",
      "[2] Subtrair os números\n",
      "[3] Multiplicar os números\n",
      "[4] Dividir os números\n",
      "[5] Sair\n"
     ]
    }
   ],
   "source": [
    "print(\"[1] Somar os números\")\n",
    "print(\"[2] Subtrair os números\")\n",
    "print(\"[3] Multiplicar os números\")\n",
    "print(\"[4] Dividir os números\")\n",
    "print(\"[5] Sair\")"
   ]
  },
  {
   "cell_type": "code",
   "execution_count": null,
   "metadata": {},
   "outputs": [],
   "source": []
  },
  {
   "cell_type": "markdown",
   "metadata": {},
   "source": [
    "7 - Crie um sistema bancário, onde começo recebendo o nome do cliente e seu saldo zerado, crie\n",
    "as opções em um menu onde posso, depositar um valor, sacar um valor, consultar o saldo ou\n",
    "sair"
   ]
  },
  {
   "cell_type": "code",
   "execution_count": 3,
   "metadata": {},
   "outputs": [
    {
     "name": "stdout",
     "output_type": "stream",
     "text": [
      "[1] Depositar\n",
      "[2] Sacar\n",
      "[3] Consultar Saldo\n",
      "[4] Sair\n"
     ]
    }
   ],
   "source": [
    "print(\"[1] Depositar\")\n",
    "print(\"[2] Sacar\")\n",
    "print(\"[3] Consultar Saldo\")\n",
    "print(\"[4] Sair\")"
   ]
  },
  {
   "cell_type": "code",
   "execution_count": null,
   "metadata": {},
   "outputs": [],
   "source": []
  }
 ],
 "metadata": {
  "kernelspec": {
   "display_name": "Python 3",
   "language": "python",
   "name": "python3"
  },
  "language_info": {
   "codemirror_mode": {
    "name": "ipython",
    "version": 3
   },
   "file_extension": ".py",
   "mimetype": "text/x-python",
   "name": "python",
   "nbconvert_exporter": "python",
   "pygments_lexer": "ipython3",
   "version": "3.12.3"
  }
 },
 "nbformat": 4,
 "nbformat_minor": 2
}
