{
 "cells": [
  {
   "cell_type": "markdown",
   "metadata": {},
   "source": [
    "1 - Crie uma Função sem parâmetros que exiba uma linha com * 50, e uma mensagem de boas vindas, chame essa função por 4 vezes"
   ]
  },
  {
   "cell_type": "code",
   "execution_count": 18,
   "metadata": {},
   "outputs": [
    {
     "name": "stdout",
     "output_type": "stream",
     "text": [
      "**************************************************\n",
      "juliana seja bem vindo(a)\n",
      "**************************************************\n",
      "**************************************************\n",
      "juliana seja bem vindo(a)\n",
      "**************************************************\n",
      "**************************************************\n",
      "juliana seja bem vindo(a)\n",
      "**************************************************\n",
      "**************************************************\n",
      "juliana seja bem vindo(a)\n",
      "**************************************************\n"
     ]
    }
   ],
   "source": [
    "#primeira versão sem usar o input\n",
    "def linha():\n",
    "    print(\"*\" * 50)\n",
    "\n",
    "def Saudação(texto):\n",
    "    linha()\n",
    "    print(f\"{texto} seja bem vindo(a)\")\n",
    "    linha()\n",
    "\n",
    "for s in range(4):\n",
    "    Saudação(\"juliana\")\n"
   ]
  },
  {
   "cell_type": "code",
   "execution_count": 6,
   "metadata": {},
   "outputs": [
    {
     "name": "stdout",
     "output_type": "stream",
     "text": [
      "**************************************************\n",
      "juliana tenha um bom dia!\n",
      "**************************************************\n",
      "**************************************************\n",
      "Juliana tenha um bom dia!\n",
      "**************************************************\n",
      "**************************************************\n",
      "Juliana tenha um bom dia!\n",
      "**************************************************\n",
      "**************************************************\n",
      "juliana tenha um bom dia!\n",
      "**************************************************\n"
     ]
    }
   ],
   "source": [
    "#segunda versão usando o input\n",
    "def linha ():\n",
    "    print('*' *50)\n",
    "\n",
    "def Saudação():\n",
    "    linha()\n",
    "    nome = input(\"escreva aqui o seu nome\")\n",
    "    print(f\"{nome} tenha um bom dia!\")\n",
    "    linha()\n",
    "\n",
    "for s in range(4):\n",
    "    Saudação()\n"
   ]
  },
  {
   "cell_type": "markdown",
   "metadata": {},
   "source": [
    "2 - Crie uma função que contenha uma lista cm as cores primárias e exiba cada cor em uma linha"
   ]
  },
  {
   "cell_type": "code",
   "execution_count": 20,
   "metadata": {},
   "outputs": [
    {
     "name": "stdout",
     "output_type": "stream",
     "text": [
      "azul\n",
      " amarelo\n",
      " vermelho\n"
     ]
    }
   ],
   "source": [
    "def cores_primarias():\n",
    "    lista_cores = ['azul', ' amarelo', ' vermelho']\n",
    "    for n in lista_cores:\n",
    "        print(n)\n",
    "cores_primarias()"
   ]
  },
  {
   "cell_type": "markdown",
   "metadata": {},
   "source": [
    "3 - Crie uma função que recebe um número como parâmetro e exiba a tabuada até o 10, chame\n",
    "essa função por 3 vezes enviando parâmetros diferentes"
   ]
  },
  {
   "cell_type": "code",
   "execution_count": 14,
   "metadata": {},
   "outputs": [
    {
     "name": "stdout",
     "output_type": "stream",
     "text": [
      "5 x 0 = 0\n",
      "5 x 1 = 5\n",
      "5 x 2 = 10\n",
      "5 x 3 = 15\n",
      "5 x 4 = 20\n",
      "5 x 5 = 25\n",
      "5 x 6 = 30\n",
      "5 x 7 = 35\n",
      "5 x 8 = 40\n",
      "5 x 9 = 45\n",
      "5 x 10 = 50\n"
     ]
    }
   ],
   "source": [
    "#primeira versão sem usar o input\n",
    "def tabuada (n):\n",
    "    for x in range(11):\n",
    "        print(f\"{n} x {x} = {n*x}\")\n",
    "tabuada(5)"
   ]
  },
  {
   "cell_type": "code",
   "execution_count": 12,
   "metadata": {},
   "outputs": [
    {
     "name": "stdout",
     "output_type": "stream",
     "text": [
      "5 x 0 = 0\n",
      "5 x 1 = 5\n",
      "5 x 2 = 10\n",
      "5 x 3 = 15\n",
      "5 x 4 = 20\n",
      "5 x 5 = 25\n",
      "5 x 6 = 30\n",
      "5 x 7 = 35\n",
      "5 x 8 = 40\n",
      "5 x 9 = 45\n",
      "5 x 10 = 50\n"
     ]
    }
   ],
   "source": [
    "#segunda versão usando o input\n",
    "def tabuada ():\n",
    "    n = int(input(\"digite aqui o seu número\"))\n",
    "    for x in range(11):\n",
    "        print(f\"{n} x {x} = {n*x}\")\n",
    "tabuada()"
   ]
  },
  {
   "cell_type": "markdown",
   "metadata": {},
   "source": [
    "4 - Crie uma função que receba 2 números e o operador matemático para realizar a operação\n",
    "(Ex. envio os parâmetros 2 e 5 e *, fazer a multiplicação), tratar as operações + - * / **"
   ]
  },
  {
   "cell_type": "code",
   "execution_count": 10,
   "metadata": {},
   "outputs": [
    {
     "name": "stdout",
     "output_type": "stream",
     "text": [
      "15 ** 12 = 129746337890625\n"
     ]
    }
   ],
   "source": [
    "#primeira versão sem usar o input\n",
    "def numero_operação (n1, n2, op):\n",
    "    if op == \"+\":\n",
    "        res = (n1 + n2)\n",
    "    if op == \"-\":\n",
    "        res = (n1 - n2)\n",
    "    if op == \"*\":\n",
    "        res = (n1 * n2)\n",
    "    if op == \"/\":\n",
    "        res = (n1 / n2) \n",
    "    if op == \"**\":\n",
    "        res = (n1 ** n2)\n",
    "    print(f\"{n1} {op} {n2} = {res}\")\n",
    "numero_operação(15, 12, \"**\")"
   ]
  },
  {
   "cell_type": "code",
   "execution_count": 8,
   "metadata": {},
   "outputs": [
    {
     "name": "stdout",
     "output_type": "stream",
     "text": [
      "15.0 ** 12.0 = 129746337890625.0\n"
     ]
    }
   ],
   "source": [
    "#segunda versão usando o input\n",
    "def numero_operação ():\n",
    "    n1 = float(input(\"insira aqui o primeiro numero\"))\n",
    "    n2 = float(input(\"insira aqui o segundo numero\"))\n",
    "    op = input(\"insira aqui o operador\")\n",
    "    if op == \"+\":\n",
    "        res = (n1 + n2)\n",
    "    if op == \"-\":\n",
    "        res = (n1 - n2)\n",
    "    if op == \"*\":\n",
    "        res = (n1 * n2)\n",
    "    if op == \"/\":\n",
    "        res = (n1 / n2) \n",
    "    if op == \"**\":\n",
    "        res = (n1 ** n2)\n",
    "    print(f\"{n1} {op} {n2} = {res}\")\n",
    "numero_operação()"
   ]
  },
  {
   "cell_type": "markdown",
   "metadata": {},
   "source": [
    "5 - Crie uma função que gere uma senha aleatória, deve receber como parâmetro a quantidade\n",
    "de caracteres que terá a senha, crie uma lista com todos os caracteres disponíveis para a\n",
    "senha e com o random sorteie a qual de dígitos terá a senha"
   ]
  },
  {
   "cell_type": "code",
   "execution_count": 57,
   "metadata": {},
   "outputs": [
    {
     "name": "stdout",
     "output_type": "stream",
     "text": [
      "1vu77Q7¨\n"
     ]
    }
   ],
   "source": [
    "import random\n",
    "caracteres = \"123456789abcdefghijklmnopqrstuvwxyvABCDEFGHIJKLMNOPQRSTUVWXYZ!@#$%¨&*()_+-=¹³£¢¬ºª[}]{\"\n",
    "def senha(nmr):\n",
    "    senhaF = \"\"\n",
    "    for sum in range(nmr):\n",
    "        sh = random.choice(caracteres)\n",
    "        senhaF += sh\n",
    "    return(senhaF)\n",
    "print(senha(8))\n"
   ]
  },
  {
   "cell_type": "code",
   "execution_count": 70,
   "metadata": {},
   "outputs": [
    {
     "name": "stdout",
     "output_type": "stream",
     "text": [
      "ªP¬(7\n"
     ]
    }
   ],
   "source": [
    "#com input\n",
    "import random\n",
    "caracteres = \"123456789abcdefghijklmnopqrstuvwxyvABCDEFGHIJKLMNOPQRSTUVWXYZ!@#$%¨&*()_+-=¹³£¢¬ºª[}]{\"\n",
    "def senha(nmr):\n",
    "    senhaF = \"\"\n",
    "    for sum in range(nmr):\n",
    "        sh = random.choice(caracteres)\n",
    "        senhaF += sh\n",
    "    return(senhaF)\n",
    "nmr = int(input())\n",
    "print(senha(nmr))"
   ]
  },
  {
   "cell_type": "code",
   "execution_count": 71,
   "metadata": {},
   "outputs": [
    {
     "name": "stdout",
     "output_type": "stream",
     "text": [
      "&iERª\n"
     ]
    }
   ],
   "source": [
    "import random\n",
    "caracteres = \"123456789abcdefghijklmnopqrstuvwxyvABCDEFGHIJKLMNOPQRSTUVWXYZ!@#$%¨&*()_+-=¹³£¢¬ºª[}]{\"\n",
    "def senha(nmr):\n",
    "    senhaF = \"\"\n",
    "    for sum in range(nmr):\n",
    "        sh = random.choice(caracteres)\n",
    "        senhaF += sh\n",
    "    return(senhaF)\n",
    "nmr = int(input(\"insira aqui o numeero de caracteres que sedeja que sua senha tenha\"))\n",
    "print(senha(nmr))"
   ]
  },
  {
   "cell_type": "code",
   "execution_count": 72,
   "metadata": {},
   "outputs": [
    {
     "name": "stdout",
     "output_type": "stream",
     "text": [
      "F{[T2!wxlBYF_sPVOVq]Q³º2pbG$O³QS[RweDDveDO&hG7k5tj\n"
     ]
    }
   ],
   "source": [
    "senhaTemp = senha(50)\n",
    "print(senhaTemp)"
   ]
  }
 ],
 "metadata": {
  "kernelspec": {
   "display_name": "Python 3",
   "language": "python",
   "name": "python3"
  },
  "language_info": {
   "codemirror_mode": {
    "name": "ipython",
    "version": 3
   },
   "file_extension": ".py",
   "mimetype": "text/x-python",
   "name": "python",
   "nbconvert_exporter": "python",
   "pygments_lexer": "ipython3",
   "version": "3.12.3"
  }
 },
 "nbformat": 4,
 "nbformat_minor": 2
}
