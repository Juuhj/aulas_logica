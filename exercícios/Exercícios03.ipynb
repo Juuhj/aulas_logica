{
 "cells": [
  {
   "cell_type": "markdown",
   "metadata": {},
   "source": [
    "1 - Pede ao usuário para digitar um número de 1 a 7 e imprime  dia da semana correspondente"
   ]
  },
  {
   "cell_type": "code",
   "execution_count": 2,
   "metadata": {},
   "outputs": [
    {
     "name": "stdout",
     "output_type": "stream",
     "text": [
      "quarta\n"
     ]
    }
   ],
   "source": [
    "numero = int(input('Digite um número de 1 a 7: '))\n",
    "if numero == 1 :\n",
    "    print('domingo')\n",
    "elif numero == 2 :\n",
    "    print (\"segunda\")\n",
    "elif numero == 3 :\n",
    "    print(\"terça\")\n",
    "elif numero == 4 :\n",
    "    print(\"quarta\")\n",
    "elif numero == 5 :\n",
    "    print(\"quinta\")\n",
    "elif numero == 6 :\n",
    "    print(\"sexta\")\n",
    "elif numero == 7 :\n",
    "    print(\"sábado\")\n",
    "else :\n",
    "    print(\"número inválido, por favor insira um número válido\")"
   ]
  },
  {
   "cell_type": "markdown",
   "metadata": {},
   "source": [
    "2 - Pede ao usuário o ano atual e o ano de nascimento e verifique em qual faixa etária ele\n",
    "pertence considerando (abaixo de 10 é criança, de 11 a 17 adolescente, de 18 a 59 adulto,\n",
    "acima de 60 idoso)"
   ]
  },
  {
   "cell_type": "code",
   "execution_count": 16,
   "metadata": {},
   "outputs": [
    {
     "name": "stdout",
     "output_type": "stream",
     "text": [
      "adulto\n"
     ]
    }
   ],
   "source": [
    "ano_atual= int(input(\"insira aqui o ano atual: \"))\n",
    "ano_nascimento = int(input('insira aqui o ano de nascimento'))\n",
    "idade = ano_atual - ano_nascimento\n",
    "if idade <= 10 :\n",
    "    print(\"criança\")\n",
    "elif idade >=11 and idade <=17 :\n",
    "    print('adolescente')\n",
    "elif idade  >= 18 and idade <= 59:\n",
    "    print('adulto')\n",
    "elif idade >= 60 :\n",
    "    print('idoso')"
   ]
  },
  {
   "cell_type": "markdown",
   "metadata": {},
   "source": [
    "3 - Pede ao usuário para digitar o nome de um mês e imprime o número de dias naquele mês\n"
   ]
  },
  {
   "cell_type": "code",
   "execution_count": 17,
   "metadata": {},
   "outputs": [
    {
     "name": "stdout",
     "output_type": "stream",
     "text": [
      "31 dias\n"
     ]
    }
   ],
   "source": [
    "mes = input(\"digite aqui o nome do mes\")\n",
    "if mes == \"janeiro\" or mes == \"março\" or mes == \"maio\" or mes == \"julho\" or mes == \"agosto\" or mes == \"outubro\" or mes == \"dezembro\" :\n",
    "    print(\"31 dias\")\n",
    "elif mes == \"abril\" or mes == \"junho\" or mes == \"setembro\" or mes == \"novembro\" :\n",
    "    print(\"30 dias\")\n",
    "elif mes == \"fevereiro\" :\n",
    "    print('28 dias, 29 dias em anos bissextos')"
   ]
  },
  {
   "cell_type": "markdown",
   "metadata": {},
   "source": [
    "4 - Pede ao usuário para digitar 2 notas e calcule sua média, e considere a média acima de 7\n",
    "aprovado, entre 5 e 7, em recuperação, abaixo de 5 reprovado."
   ]
  },
  {
   "cell_type": "code",
   "execution_count": 22,
   "metadata": {},
   "outputs": [
    {
     "name": "stdout",
     "output_type": "stream",
     "text": [
      "aprovado\n"
     ]
    }
   ],
   "source": [
    "n1 = float(input('insira aqui a primeira nota'))\n",
    "n2 = float(input(\"insira aqui a segunda nota\"))\n",
    "media = (n1 + n2) / 2\n",
    "if media > 7 : #fiquei em duvida se deveria colocar 7, ou 8 direto\n",
    "    print(\"aprovado\")\n",
    "elif media >= 5 and media <=7 :\n",
    "    print(\"em recuperação\")\n",
    "else :\n",
    "    print('reprovado')"
   ]
  },
  {
   "cell_type": "markdown",
   "metadata": {},
   "source": [
    "5 - Pede o salário do funcionário, e calcular o aumento que ele terá, considerando se ganhar até\n",
    "2000, reajuste de 12%, até 4000, reajuste de 10%, acima de 4000 reajuste de 8%, exibir o\n",
    "novo salário"
   ]
  },
  {
   "cell_type": "code",
   "execution_count": 29,
   "metadata": {},
   "outputs": [
    {
     "name": "stdout",
     "output_type": "stream",
     "text": [
      "1344.0\n"
     ]
    }
   ],
   "source": [
    "salario = float(input(\"digite aqui o salario\"))\n",
    "if salario <= 2000 :\n",
    "    salario = salario + salario / 100 * 12\n",
    "    print(salario)\n",
    "elif salario > 2000 :\n",
    "    salario = salario +  salario / 100 * 10\n",
    "    print(salario)\n",
    "else :\n",
    "    salario = salario + salario / 100 * 8\n",
    "    print(salario)"
   ]
  }
 ],
 "metadata": {
  "kernelspec": {
   "display_name": "Python 3",
   "language": "python",
   "name": "python3"
  },
  "language_info": {
   "codemirror_mode": {
    "name": "ipython",
    "version": 3
   },
   "file_extension": ".py",
   "mimetype": "text/x-python",
   "name": "python",
   "nbconvert_exporter": "python",
   "pygments_lexer": "ipython3",
   "version": "3.12.2"
  }
 },
 "nbformat": 4,
 "nbformat_minor": 2
}
